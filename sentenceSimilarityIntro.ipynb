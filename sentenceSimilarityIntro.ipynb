{
  "nbformat": 4,
  "nbformat_minor": 0,
  "metadata": {
    "colab": {
      "provenance": []
    },
    "kernelspec": {
      "name": "python3",
      "display_name": "Python 3"
    },
    "language_info": {
      "name": "python"
    },
    "widgets": {
      "application/vnd.jupyter.widget-state+json": {
        "91fd7b8e4aed4388a8f64137fce0e186": {
          "model_module": "@jupyter-widgets/controls",
          "model_name": "HBoxModel",
          "model_module_version": "1.5.0",
          "state": {
            "_dom_classes": [],
            "_model_module": "@jupyter-widgets/controls",
            "_model_module_version": "1.5.0",
            "_model_name": "HBoxModel",
            "_view_count": null,
            "_view_module": "@jupyter-widgets/controls",
            "_view_module_version": "1.5.0",
            "_view_name": "HBoxView",
            "box_style": "",
            "children": [
              "IPY_MODEL_e6071a966c83403391571c547dea1081",
              "IPY_MODEL_95a61f44b43d4a519a051dd080e9db36",
              "IPY_MODEL_b56f84fc037a4a6282a510cf4dc99ced"
            ],
            "layout": "IPY_MODEL_3996a4bd7d3a4fc4afbf5688898d843e"
          }
        },
        "e6071a966c83403391571c547dea1081": {
          "model_module": "@jupyter-widgets/controls",
          "model_name": "HTMLModel",
          "model_module_version": "1.5.0",
          "state": {
            "_dom_classes": [],
            "_model_module": "@jupyter-widgets/controls",
            "_model_module_version": "1.5.0",
            "_model_name": "HTMLModel",
            "_view_count": null,
            "_view_module": "@jupyter-widgets/controls",
            "_view_module_version": "1.5.0",
            "_view_name": "HTMLView",
            "description": "",
            "description_tooltip": null,
            "layout": "IPY_MODEL_5c98e874491b459f9c1c9093dc5d15d9",
            "placeholder": "​",
            "style": "IPY_MODEL_b8eda22fe37b494592dcb80bd5aa43f6",
            "value": "Downloading tokenizer_config.json: 100%"
          }
        },
        "95a61f44b43d4a519a051dd080e9db36": {
          "model_module": "@jupyter-widgets/controls",
          "model_name": "FloatProgressModel",
          "model_module_version": "1.5.0",
          "state": {
            "_dom_classes": [],
            "_model_module": "@jupyter-widgets/controls",
            "_model_module_version": "1.5.0",
            "_model_name": "FloatProgressModel",
            "_view_count": null,
            "_view_module": "@jupyter-widgets/controls",
            "_view_module_version": "1.5.0",
            "_view_name": "ProgressView",
            "bar_style": "success",
            "description": "",
            "description_tooltip": null,
            "layout": "IPY_MODEL_681172c7502c4faab974fab5c0bf9854",
            "max": 489,
            "min": 0,
            "orientation": "horizontal",
            "style": "IPY_MODEL_f757d032e32145139f1285c624fd3f86",
            "value": 489
          }
        },
        "b56f84fc037a4a6282a510cf4dc99ced": {
          "model_module": "@jupyter-widgets/controls",
          "model_name": "HTMLModel",
          "model_module_version": "1.5.0",
          "state": {
            "_dom_classes": [],
            "_model_module": "@jupyter-widgets/controls",
            "_model_module_version": "1.5.0",
            "_model_name": "HTMLModel",
            "_view_count": null,
            "_view_module": "@jupyter-widgets/controls",
            "_view_module_version": "1.5.0",
            "_view_name": "HTMLView",
            "description": "",
            "description_tooltip": null,
            "layout": "IPY_MODEL_c99121525e8b4c8e8480564c624f008f",
            "placeholder": "​",
            "style": "IPY_MODEL_39297728db944464aa25084b821d618c",
            "value": " 489/489 [00:00&lt;00:00, 4.58kB/s]"
          }
        },
        "3996a4bd7d3a4fc4afbf5688898d843e": {
          "model_module": "@jupyter-widgets/base",
          "model_name": "LayoutModel",
          "model_module_version": "1.2.0",
          "state": {
            "_model_module": "@jupyter-widgets/base",
            "_model_module_version": "1.2.0",
            "_model_name": "LayoutModel",
            "_view_count": null,
            "_view_module": "@jupyter-widgets/base",
            "_view_module_version": "1.2.0",
            "_view_name": "LayoutView",
            "align_content": null,
            "align_items": null,
            "align_self": null,
            "border": null,
            "bottom": null,
            "display": null,
            "flex": null,
            "flex_flow": null,
            "grid_area": null,
            "grid_auto_columns": null,
            "grid_auto_flow": null,
            "grid_auto_rows": null,
            "grid_column": null,
            "grid_gap": null,
            "grid_row": null,
            "grid_template_areas": null,
            "grid_template_columns": null,
            "grid_template_rows": null,
            "height": null,
            "justify_content": null,
            "justify_items": null,
            "left": null,
            "margin": null,
            "max_height": null,
            "max_width": null,
            "min_height": null,
            "min_width": null,
            "object_fit": null,
            "object_position": null,
            "order": null,
            "overflow": null,
            "overflow_x": null,
            "overflow_y": null,
            "padding": null,
            "right": null,
            "top": null,
            "visibility": null,
            "width": null
          }
        },
        "5c98e874491b459f9c1c9093dc5d15d9": {
          "model_module": "@jupyter-widgets/base",
          "model_name": "LayoutModel",
          "model_module_version": "1.2.0",
          "state": {
            "_model_module": "@jupyter-widgets/base",
            "_model_module_version": "1.2.0",
            "_model_name": "LayoutModel",
            "_view_count": null,
            "_view_module": "@jupyter-widgets/base",
            "_view_module_version": "1.2.0",
            "_view_name": "LayoutView",
            "align_content": null,
            "align_items": null,
            "align_self": null,
            "border": null,
            "bottom": null,
            "display": null,
            "flex": null,
            "flex_flow": null,
            "grid_area": null,
            "grid_auto_columns": null,
            "grid_auto_flow": null,
            "grid_auto_rows": null,
            "grid_column": null,
            "grid_gap": null,
            "grid_row": null,
            "grid_template_areas": null,
            "grid_template_columns": null,
            "grid_template_rows": null,
            "height": null,
            "justify_content": null,
            "justify_items": null,
            "left": null,
            "margin": null,
            "max_height": null,
            "max_width": null,
            "min_height": null,
            "min_width": null,
            "object_fit": null,
            "object_position": null,
            "order": null,
            "overflow": null,
            "overflow_x": null,
            "overflow_y": null,
            "padding": null,
            "right": null,
            "top": null,
            "visibility": null,
            "width": null
          }
        },
        "b8eda22fe37b494592dcb80bd5aa43f6": {
          "model_module": "@jupyter-widgets/controls",
          "model_name": "DescriptionStyleModel",
          "model_module_version": "1.5.0",
          "state": {
            "_model_module": "@jupyter-widgets/controls",
            "_model_module_version": "1.5.0",
            "_model_name": "DescriptionStyleModel",
            "_view_count": null,
            "_view_module": "@jupyter-widgets/base",
            "_view_module_version": "1.2.0",
            "_view_name": "StyleView",
            "description_width": ""
          }
        },
        "681172c7502c4faab974fab5c0bf9854": {
          "model_module": "@jupyter-widgets/base",
          "model_name": "LayoutModel",
          "model_module_version": "1.2.0",
          "state": {
            "_model_module": "@jupyter-widgets/base",
            "_model_module_version": "1.2.0",
            "_model_name": "LayoutModel",
            "_view_count": null,
            "_view_module": "@jupyter-widgets/base",
            "_view_module_version": "1.2.0",
            "_view_name": "LayoutView",
            "align_content": null,
            "align_items": null,
            "align_self": null,
            "border": null,
            "bottom": null,
            "display": null,
            "flex": null,
            "flex_flow": null,
            "grid_area": null,
            "grid_auto_columns": null,
            "grid_auto_flow": null,
            "grid_auto_rows": null,
            "grid_column": null,
            "grid_gap": null,
            "grid_row": null,
            "grid_template_areas": null,
            "grid_template_columns": null,
            "grid_template_rows": null,
            "height": null,
            "justify_content": null,
            "justify_items": null,
            "left": null,
            "margin": null,
            "max_height": null,
            "max_width": null,
            "min_height": null,
            "min_width": null,
            "object_fit": null,
            "object_position": null,
            "order": null,
            "overflow": null,
            "overflow_x": null,
            "overflow_y": null,
            "padding": null,
            "right": null,
            "top": null,
            "visibility": null,
            "width": null
          }
        },
        "f757d032e32145139f1285c624fd3f86": {
          "model_module": "@jupyter-widgets/controls",
          "model_name": "ProgressStyleModel",
          "model_module_version": "1.5.0",
          "state": {
            "_model_module": "@jupyter-widgets/controls",
            "_model_module_version": "1.5.0",
            "_model_name": "ProgressStyleModel",
            "_view_count": null,
            "_view_module": "@jupyter-widgets/base",
            "_view_module_version": "1.2.0",
            "_view_name": "StyleView",
            "bar_color": null,
            "description_width": ""
          }
        },
        "c99121525e8b4c8e8480564c624f008f": {
          "model_module": "@jupyter-widgets/base",
          "model_name": "LayoutModel",
          "model_module_version": "1.2.0",
          "state": {
            "_model_module": "@jupyter-widgets/base",
            "_model_module_version": "1.2.0",
            "_model_name": "LayoutModel",
            "_view_count": null,
            "_view_module": "@jupyter-widgets/base",
            "_view_module_version": "1.2.0",
            "_view_name": "LayoutView",
            "align_content": null,
            "align_items": null,
            "align_self": null,
            "border": null,
            "bottom": null,
            "display": null,
            "flex": null,
            "flex_flow": null,
            "grid_area": null,
            "grid_auto_columns": null,
            "grid_auto_flow": null,
            "grid_auto_rows": null,
            "grid_column": null,
            "grid_gap": null,
            "grid_row": null,
            "grid_template_areas": null,
            "grid_template_columns": null,
            "grid_template_rows": null,
            "height": null,
            "justify_content": null,
            "justify_items": null,
            "left": null,
            "margin": null,
            "max_height": null,
            "max_width": null,
            "min_height": null,
            "min_width": null,
            "object_fit": null,
            "object_position": null,
            "order": null,
            "overflow": null,
            "overflow_x": null,
            "overflow_y": null,
            "padding": null,
            "right": null,
            "top": null,
            "visibility": null,
            "width": null
          }
        },
        "39297728db944464aa25084b821d618c": {
          "model_module": "@jupyter-widgets/controls",
          "model_name": "DescriptionStyleModel",
          "model_module_version": "1.5.0",
          "state": {
            "_model_module": "@jupyter-widgets/controls",
            "_model_module_version": "1.5.0",
            "_model_name": "DescriptionStyleModel",
            "_view_count": null,
            "_view_module": "@jupyter-widgets/base",
            "_view_module_version": "1.2.0",
            "_view_name": "StyleView",
            "description_width": ""
          }
        },
        "ab2bfc657fad4204abeb32ae456b3939": {
          "model_module": "@jupyter-widgets/controls",
          "model_name": "HBoxModel",
          "model_module_version": "1.5.0",
          "state": {
            "_dom_classes": [],
            "_model_module": "@jupyter-widgets/controls",
            "_model_module_version": "1.5.0",
            "_model_name": "HBoxModel",
            "_view_count": null,
            "_view_module": "@jupyter-widgets/controls",
            "_view_module_version": "1.5.0",
            "_view_name": "HBoxView",
            "box_style": "",
            "children": [
              "IPY_MODEL_833b112b0e814a42b190a33e99d1362a",
              "IPY_MODEL_37f56d40749745148d05fe95f77f90f5",
              "IPY_MODEL_b4335eb969f34729b20f9ee3f50f7a67"
            ],
            "layout": "IPY_MODEL_64c3a56069944f398039698fce04cf09"
          }
        },
        "833b112b0e814a42b190a33e99d1362a": {
          "model_module": "@jupyter-widgets/controls",
          "model_name": "HTMLModel",
          "model_module_version": "1.5.0",
          "state": {
            "_dom_classes": [],
            "_model_module": "@jupyter-widgets/controls",
            "_model_module_version": "1.5.0",
            "_model_name": "HTMLModel",
            "_view_count": null,
            "_view_module": "@jupyter-widgets/controls",
            "_view_module_version": "1.5.0",
            "_view_name": "HTMLView",
            "description": "",
            "description_tooltip": null,
            "layout": "IPY_MODEL_a8cb76005cee4703b76758940bd48bde",
            "placeholder": "​",
            "style": "IPY_MODEL_4d47fbfa0ce740a0b89906dbd08f3357",
            "value": "Downloading config.json: 100%"
          }
        },
        "37f56d40749745148d05fe95f77f90f5": {
          "model_module": "@jupyter-widgets/controls",
          "model_name": "FloatProgressModel",
          "model_module_version": "1.5.0",
          "state": {
            "_dom_classes": [],
            "_model_module": "@jupyter-widgets/controls",
            "_model_module_version": "1.5.0",
            "_model_name": "FloatProgressModel",
            "_view_count": null,
            "_view_module": "@jupyter-widgets/controls",
            "_view_module_version": "1.5.0",
            "_view_name": "ProgressView",
            "bar_style": "success",
            "description": "",
            "description_tooltip": null,
            "layout": "IPY_MODEL_338c437412a9411ca91f16707e5da3b0",
            "max": 539,
            "min": 0,
            "orientation": "horizontal",
            "style": "IPY_MODEL_8c99c362e9414dd9b9ea7d070eec4276",
            "value": 539
          }
        },
        "b4335eb969f34729b20f9ee3f50f7a67": {
          "model_module": "@jupyter-widgets/controls",
          "model_name": "HTMLModel",
          "model_module_version": "1.5.0",
          "state": {
            "_dom_classes": [],
            "_model_module": "@jupyter-widgets/controls",
            "_model_module_version": "1.5.0",
            "_model_name": "HTMLModel",
            "_view_count": null,
            "_view_module": "@jupyter-widgets/controls",
            "_view_module_version": "1.5.0",
            "_view_name": "HTMLView",
            "description": "",
            "description_tooltip": null,
            "layout": "IPY_MODEL_9ff216c977c64910809388256bfee331",
            "placeholder": "​",
            "style": "IPY_MODEL_4193ed46f77a45268adf2c1a87cdac0a",
            "value": " 539/539 [00:00&lt;00:00, 5.40kB/s]"
          }
        },
        "64c3a56069944f398039698fce04cf09": {
          "model_module": "@jupyter-widgets/base",
          "model_name": "LayoutModel",
          "model_module_version": "1.2.0",
          "state": {
            "_model_module": "@jupyter-widgets/base",
            "_model_module_version": "1.2.0",
            "_model_name": "LayoutModel",
            "_view_count": null,
            "_view_module": "@jupyter-widgets/base",
            "_view_module_version": "1.2.0",
            "_view_name": "LayoutView",
            "align_content": null,
            "align_items": null,
            "align_self": null,
            "border": null,
            "bottom": null,
            "display": null,
            "flex": null,
            "flex_flow": null,
            "grid_area": null,
            "grid_auto_columns": null,
            "grid_auto_flow": null,
            "grid_auto_rows": null,
            "grid_column": null,
            "grid_gap": null,
            "grid_row": null,
            "grid_template_areas": null,
            "grid_template_columns": null,
            "grid_template_rows": null,
            "height": null,
            "justify_content": null,
            "justify_items": null,
            "left": null,
            "margin": null,
            "max_height": null,
            "max_width": null,
            "min_height": null,
            "min_width": null,
            "object_fit": null,
            "object_position": null,
            "order": null,
            "overflow": null,
            "overflow_x": null,
            "overflow_y": null,
            "padding": null,
            "right": null,
            "top": null,
            "visibility": null,
            "width": null
          }
        },
        "a8cb76005cee4703b76758940bd48bde": {
          "model_module": "@jupyter-widgets/base",
          "model_name": "LayoutModel",
          "model_module_version": "1.2.0",
          "state": {
            "_model_module": "@jupyter-widgets/base",
            "_model_module_version": "1.2.0",
            "_model_name": "LayoutModel",
            "_view_count": null,
            "_view_module": "@jupyter-widgets/base",
            "_view_module_version": "1.2.0",
            "_view_name": "LayoutView",
            "align_content": null,
            "align_items": null,
            "align_self": null,
            "border": null,
            "bottom": null,
            "display": null,
            "flex": null,
            "flex_flow": null,
            "grid_area": null,
            "grid_auto_columns": null,
            "grid_auto_flow": null,
            "grid_auto_rows": null,
            "grid_column": null,
            "grid_gap": null,
            "grid_row": null,
            "grid_template_areas": null,
            "grid_template_columns": null,
            "grid_template_rows": null,
            "height": null,
            "justify_content": null,
            "justify_items": null,
            "left": null,
            "margin": null,
            "max_height": null,
            "max_width": null,
            "min_height": null,
            "min_width": null,
            "object_fit": null,
            "object_position": null,
            "order": null,
            "overflow": null,
            "overflow_x": null,
            "overflow_y": null,
            "padding": null,
            "right": null,
            "top": null,
            "visibility": null,
            "width": null
          }
        },
        "4d47fbfa0ce740a0b89906dbd08f3357": {
          "model_module": "@jupyter-widgets/controls",
          "model_name": "DescriptionStyleModel",
          "model_module_version": "1.5.0",
          "state": {
            "_model_module": "@jupyter-widgets/controls",
            "_model_module_version": "1.5.0",
            "_model_name": "DescriptionStyleModel",
            "_view_count": null,
            "_view_module": "@jupyter-widgets/base",
            "_view_module_version": "1.2.0",
            "_view_name": "StyleView",
            "description_width": ""
          }
        },
        "338c437412a9411ca91f16707e5da3b0": {
          "model_module": "@jupyter-widgets/base",
          "model_name": "LayoutModel",
          "model_module_version": "1.2.0",
          "state": {
            "_model_module": "@jupyter-widgets/base",
            "_model_module_version": "1.2.0",
            "_model_name": "LayoutModel",
            "_view_count": null,
            "_view_module": "@jupyter-widgets/base",
            "_view_module_version": "1.2.0",
            "_view_name": "LayoutView",
            "align_content": null,
            "align_items": null,
            "align_self": null,
            "border": null,
            "bottom": null,
            "display": null,
            "flex": null,
            "flex_flow": null,
            "grid_area": null,
            "grid_auto_columns": null,
            "grid_auto_flow": null,
            "grid_auto_rows": null,
            "grid_column": null,
            "grid_gap": null,
            "grid_row": null,
            "grid_template_areas": null,
            "grid_template_columns": null,
            "grid_template_rows": null,
            "height": null,
            "justify_content": null,
            "justify_items": null,
            "left": null,
            "margin": null,
            "max_height": null,
            "max_width": null,
            "min_height": null,
            "min_width": null,
            "object_fit": null,
            "object_position": null,
            "order": null,
            "overflow": null,
            "overflow_x": null,
            "overflow_y": null,
            "padding": null,
            "right": null,
            "top": null,
            "visibility": null,
            "width": null
          }
        },
        "8c99c362e9414dd9b9ea7d070eec4276": {
          "model_module": "@jupyter-widgets/controls",
          "model_name": "ProgressStyleModel",
          "model_module_version": "1.5.0",
          "state": {
            "_model_module": "@jupyter-widgets/controls",
            "_model_module_version": "1.5.0",
            "_model_name": "ProgressStyleModel",
            "_view_count": null,
            "_view_module": "@jupyter-widgets/base",
            "_view_module_version": "1.2.0",
            "_view_name": "StyleView",
            "bar_color": null,
            "description_width": ""
          }
        },
        "9ff216c977c64910809388256bfee331": {
          "model_module": "@jupyter-widgets/base",
          "model_name": "LayoutModel",
          "model_module_version": "1.2.0",
          "state": {
            "_model_module": "@jupyter-widgets/base",
            "_model_module_version": "1.2.0",
            "_model_name": "LayoutModel",
            "_view_count": null,
            "_view_module": "@jupyter-widgets/base",
            "_view_module_version": "1.2.0",
            "_view_name": "LayoutView",
            "align_content": null,
            "align_items": null,
            "align_self": null,
            "border": null,
            "bottom": null,
            "display": null,
            "flex": null,
            "flex_flow": null,
            "grid_area": null,
            "grid_auto_columns": null,
            "grid_auto_flow": null,
            "grid_auto_rows": null,
            "grid_column": null,
            "grid_gap": null,
            "grid_row": null,
            "grid_template_areas": null,
            "grid_template_columns": null,
            "grid_template_rows": null,
            "height": null,
            "justify_content": null,
            "justify_items": null,
            "left": null,
            "margin": null,
            "max_height": null,
            "max_width": null,
            "min_height": null,
            "min_width": null,
            "object_fit": null,
            "object_position": null,
            "order": null,
            "overflow": null,
            "overflow_x": null,
            "overflow_y": null,
            "padding": null,
            "right": null,
            "top": null,
            "visibility": null,
            "width": null
          }
        },
        "4193ed46f77a45268adf2c1a87cdac0a": {
          "model_module": "@jupyter-widgets/controls",
          "model_name": "DescriptionStyleModel",
          "model_module_version": "1.5.0",
          "state": {
            "_model_module": "@jupyter-widgets/controls",
            "_model_module_version": "1.5.0",
            "_model_name": "DescriptionStyleModel",
            "_view_count": null,
            "_view_module": "@jupyter-widgets/base",
            "_view_module_version": "1.2.0",
            "_view_name": "StyleView",
            "description_width": ""
          }
        },
        "429cf588433847b488c381f16b713b65": {
          "model_module": "@jupyter-widgets/controls",
          "model_name": "HBoxModel",
          "model_module_version": "1.5.0",
          "state": {
            "_dom_classes": [],
            "_model_module": "@jupyter-widgets/controls",
            "_model_module_version": "1.5.0",
            "_model_name": "HBoxModel",
            "_view_count": null,
            "_view_module": "@jupyter-widgets/controls",
            "_view_module_version": "1.5.0",
            "_view_name": "HBoxView",
            "box_style": "",
            "children": [
              "IPY_MODEL_c3dd39d675da4d20bc8fd5f3af7f24c1",
              "IPY_MODEL_fedd10fe0bc64016a84a542df50d5ed5",
              "IPY_MODEL_67378128f9d5483d8da803bdaeac63bc"
            ],
            "layout": "IPY_MODEL_8e0dae5c4a2b48a0bed0f4dab7f26f02"
          }
        },
        "c3dd39d675da4d20bc8fd5f3af7f24c1": {
          "model_module": "@jupyter-widgets/controls",
          "model_name": "HTMLModel",
          "model_module_version": "1.5.0",
          "state": {
            "_dom_classes": [],
            "_model_module": "@jupyter-widgets/controls",
            "_model_module_version": "1.5.0",
            "_model_name": "HTMLModel",
            "_view_count": null,
            "_view_module": "@jupyter-widgets/controls",
            "_view_module_version": "1.5.0",
            "_view_name": "HTMLView",
            "description": "",
            "description_tooltip": null,
            "layout": "IPY_MODEL_0fa5b04ec22144d29ca4c8aceb09c1ff",
            "placeholder": "​",
            "style": "IPY_MODEL_2f8ad7b341ec4cea82a0d434fb0f910f",
            "value": "Downloading vocab.txt: 100%"
          }
        },
        "fedd10fe0bc64016a84a542df50d5ed5": {
          "model_module": "@jupyter-widgets/controls",
          "model_name": "FloatProgressModel",
          "model_module_version": "1.5.0",
          "state": {
            "_dom_classes": [],
            "_model_module": "@jupyter-widgets/controls",
            "_model_module_version": "1.5.0",
            "_model_name": "FloatProgressModel",
            "_view_count": null,
            "_view_module": "@jupyter-widgets/controls",
            "_view_module_version": "1.5.0",
            "_view_name": "ProgressView",
            "bar_style": "success",
            "description": "",
            "description_tooltip": null,
            "layout": "IPY_MODEL_c41d638d4a7042a48c378e7aa29613f3",
            "max": 231508,
            "min": 0,
            "orientation": "horizontal",
            "style": "IPY_MODEL_0988cd8f773d40bfb9000e4934a9e5ac",
            "value": 231508
          }
        },
        "67378128f9d5483d8da803bdaeac63bc": {
          "model_module": "@jupyter-widgets/controls",
          "model_name": "HTMLModel",
          "model_module_version": "1.5.0",
          "state": {
            "_dom_classes": [],
            "_model_module": "@jupyter-widgets/controls",
            "_model_module_version": "1.5.0",
            "_model_name": "HTMLModel",
            "_view_count": null,
            "_view_module": "@jupyter-widgets/controls",
            "_view_module_version": "1.5.0",
            "_view_name": "HTMLView",
            "description": "",
            "description_tooltip": null,
            "layout": "IPY_MODEL_ebfa627c4d1b449db190d106bf550163",
            "placeholder": "​",
            "style": "IPY_MODEL_48940c896e80413db80267115bb1806c",
            "value": " 226k/226k [00:00&lt;00:00, 972kB/s]"
          }
        },
        "8e0dae5c4a2b48a0bed0f4dab7f26f02": {
          "model_module": "@jupyter-widgets/base",
          "model_name": "LayoutModel",
          "model_module_version": "1.2.0",
          "state": {
            "_model_module": "@jupyter-widgets/base",
            "_model_module_version": "1.2.0",
            "_model_name": "LayoutModel",
            "_view_count": null,
            "_view_module": "@jupyter-widgets/base",
            "_view_module_version": "1.2.0",
            "_view_name": "LayoutView",
            "align_content": null,
            "align_items": null,
            "align_self": null,
            "border": null,
            "bottom": null,
            "display": null,
            "flex": null,
            "flex_flow": null,
            "grid_area": null,
            "grid_auto_columns": null,
            "grid_auto_flow": null,
            "grid_auto_rows": null,
            "grid_column": null,
            "grid_gap": null,
            "grid_row": null,
            "grid_template_areas": null,
            "grid_template_columns": null,
            "grid_template_rows": null,
            "height": null,
            "justify_content": null,
            "justify_items": null,
            "left": null,
            "margin": null,
            "max_height": null,
            "max_width": null,
            "min_height": null,
            "min_width": null,
            "object_fit": null,
            "object_position": null,
            "order": null,
            "overflow": null,
            "overflow_x": null,
            "overflow_y": null,
            "padding": null,
            "right": null,
            "top": null,
            "visibility": null,
            "width": null
          }
        },
        "0fa5b04ec22144d29ca4c8aceb09c1ff": {
          "model_module": "@jupyter-widgets/base",
          "model_name": "LayoutModel",
          "model_module_version": "1.2.0",
          "state": {
            "_model_module": "@jupyter-widgets/base",
            "_model_module_version": "1.2.0",
            "_model_name": "LayoutModel",
            "_view_count": null,
            "_view_module": "@jupyter-widgets/base",
            "_view_module_version": "1.2.0",
            "_view_name": "LayoutView",
            "align_content": null,
            "align_items": null,
            "align_self": null,
            "border": null,
            "bottom": null,
            "display": null,
            "flex": null,
            "flex_flow": null,
            "grid_area": null,
            "grid_auto_columns": null,
            "grid_auto_flow": null,
            "grid_auto_rows": null,
            "grid_column": null,
            "grid_gap": null,
            "grid_row": null,
            "grid_template_areas": null,
            "grid_template_columns": null,
            "grid_template_rows": null,
            "height": null,
            "justify_content": null,
            "justify_items": null,
            "left": null,
            "margin": null,
            "max_height": null,
            "max_width": null,
            "min_height": null,
            "min_width": null,
            "object_fit": null,
            "object_position": null,
            "order": null,
            "overflow": null,
            "overflow_x": null,
            "overflow_y": null,
            "padding": null,
            "right": null,
            "top": null,
            "visibility": null,
            "width": null
          }
        },
        "2f8ad7b341ec4cea82a0d434fb0f910f": {
          "model_module": "@jupyter-widgets/controls",
          "model_name": "DescriptionStyleModel",
          "model_module_version": "1.5.0",
          "state": {
            "_model_module": "@jupyter-widgets/controls",
            "_model_module_version": "1.5.0",
            "_model_name": "DescriptionStyleModel",
            "_view_count": null,
            "_view_module": "@jupyter-widgets/base",
            "_view_module_version": "1.2.0",
            "_view_name": "StyleView",
            "description_width": ""
          }
        },
        "c41d638d4a7042a48c378e7aa29613f3": {
          "model_module": "@jupyter-widgets/base",
          "model_name": "LayoutModel",
          "model_module_version": "1.2.0",
          "state": {
            "_model_module": "@jupyter-widgets/base",
            "_model_module_version": "1.2.0",
            "_model_name": "LayoutModel",
            "_view_count": null,
            "_view_module": "@jupyter-widgets/base",
            "_view_module_version": "1.2.0",
            "_view_name": "LayoutView",
            "align_content": null,
            "align_items": null,
            "align_self": null,
            "border": null,
            "bottom": null,
            "display": null,
            "flex": null,
            "flex_flow": null,
            "grid_area": null,
            "grid_auto_columns": null,
            "grid_auto_flow": null,
            "grid_auto_rows": null,
            "grid_column": null,
            "grid_gap": null,
            "grid_row": null,
            "grid_template_areas": null,
            "grid_template_columns": null,
            "grid_template_rows": null,
            "height": null,
            "justify_content": null,
            "justify_items": null,
            "left": null,
            "margin": null,
            "max_height": null,
            "max_width": null,
            "min_height": null,
            "min_width": null,
            "object_fit": null,
            "object_position": null,
            "order": null,
            "overflow": null,
            "overflow_x": null,
            "overflow_y": null,
            "padding": null,
            "right": null,
            "top": null,
            "visibility": null,
            "width": null
          }
        },
        "0988cd8f773d40bfb9000e4934a9e5ac": {
          "model_module": "@jupyter-widgets/controls",
          "model_name": "ProgressStyleModel",
          "model_module_version": "1.5.0",
          "state": {
            "_model_module": "@jupyter-widgets/controls",
            "_model_module_version": "1.5.0",
            "_model_name": "ProgressStyleModel",
            "_view_count": null,
            "_view_module": "@jupyter-widgets/base",
            "_view_module_version": "1.2.0",
            "_view_name": "StyleView",
            "bar_color": null,
            "description_width": ""
          }
        },
        "ebfa627c4d1b449db190d106bf550163": {
          "model_module": "@jupyter-widgets/base",
          "model_name": "LayoutModel",
          "model_module_version": "1.2.0",
          "state": {
            "_model_module": "@jupyter-widgets/base",
            "_model_module_version": "1.2.0",
            "_model_name": "LayoutModel",
            "_view_count": null,
            "_view_module": "@jupyter-widgets/base",
            "_view_module_version": "1.2.0",
            "_view_name": "LayoutView",
            "align_content": null,
            "align_items": null,
            "align_self": null,
            "border": null,
            "bottom": null,
            "display": null,
            "flex": null,
            "flex_flow": null,
            "grid_area": null,
            "grid_auto_columns": null,
            "grid_auto_flow": null,
            "grid_auto_rows": null,
            "grid_column": null,
            "grid_gap": null,
            "grid_row": null,
            "grid_template_areas": null,
            "grid_template_columns": null,
            "grid_template_rows": null,
            "height": null,
            "justify_content": null,
            "justify_items": null,
            "left": null,
            "margin": null,
            "max_height": null,
            "max_width": null,
            "min_height": null,
            "min_width": null,
            "object_fit": null,
            "object_position": null,
            "order": null,
            "overflow": null,
            "overflow_x": null,
            "overflow_y": null,
            "padding": null,
            "right": null,
            "top": null,
            "visibility": null,
            "width": null
          }
        },
        "48940c896e80413db80267115bb1806c": {
          "model_module": "@jupyter-widgets/controls",
          "model_name": "DescriptionStyleModel",
          "model_module_version": "1.5.0",
          "state": {
            "_model_module": "@jupyter-widgets/controls",
            "_model_module_version": "1.5.0",
            "_model_name": "DescriptionStyleModel",
            "_view_count": null,
            "_view_module": "@jupyter-widgets/base",
            "_view_module_version": "1.2.0",
            "_view_name": "StyleView",
            "description_width": ""
          }
        },
        "2ce83b54237c46cfab63d3c392d7f0f1": {
          "model_module": "@jupyter-widgets/controls",
          "model_name": "HBoxModel",
          "model_module_version": "1.5.0",
          "state": {
            "_dom_classes": [],
            "_model_module": "@jupyter-widgets/controls",
            "_model_module_version": "1.5.0",
            "_model_name": "HBoxModel",
            "_view_count": null,
            "_view_module": "@jupyter-widgets/controls",
            "_view_module_version": "1.5.0",
            "_view_name": "HBoxView",
            "box_style": "",
            "children": [
              "IPY_MODEL_be0ce079b63f45dbbcd23866c6803985",
              "IPY_MODEL_d9ccef5854334b8189495c9b5017205d",
              "IPY_MODEL_5b8ccbc5ce2f4bb3ac541a273d2a66d1"
            ],
            "layout": "IPY_MODEL_6e636a4acd2944638307fd6b5adba5e0"
          }
        },
        "be0ce079b63f45dbbcd23866c6803985": {
          "model_module": "@jupyter-widgets/controls",
          "model_name": "HTMLModel",
          "model_module_version": "1.5.0",
          "state": {
            "_dom_classes": [],
            "_model_module": "@jupyter-widgets/controls",
            "_model_module_version": "1.5.0",
            "_model_name": "HTMLModel",
            "_view_count": null,
            "_view_module": "@jupyter-widgets/controls",
            "_view_module_version": "1.5.0",
            "_view_name": "HTMLView",
            "description": "",
            "description_tooltip": null,
            "layout": "IPY_MODEL_84b60ce4c975443d813a2e411e7a075e",
            "placeholder": "​",
            "style": "IPY_MODEL_e2773d1ee0e24409ab0f98fee849c4ee",
            "value": "Downloading tokenizer.json: 100%"
          }
        },
        "d9ccef5854334b8189495c9b5017205d": {
          "model_module": "@jupyter-widgets/controls",
          "model_name": "FloatProgressModel",
          "model_module_version": "1.5.0",
          "state": {
            "_dom_classes": [],
            "_model_module": "@jupyter-widgets/controls",
            "_model_module_version": "1.5.0",
            "_model_name": "FloatProgressModel",
            "_view_count": null,
            "_view_module": "@jupyter-widgets/controls",
            "_view_module_version": "1.5.0",
            "_view_name": "ProgressView",
            "bar_style": "success",
            "description": "",
            "description_tooltip": null,
            "layout": "IPY_MODEL_aec7856e2adc41699f9e3e2a4edb3a99",
            "max": 466081,
            "min": 0,
            "orientation": "horizontal",
            "style": "IPY_MODEL_28dd2a34b7974e62a8cd4100ad6e1fe2",
            "value": 466081
          }
        },
        "5b8ccbc5ce2f4bb3ac541a273d2a66d1": {
          "model_module": "@jupyter-widgets/controls",
          "model_name": "HTMLModel",
          "model_module_version": "1.5.0",
          "state": {
            "_dom_classes": [],
            "_model_module": "@jupyter-widgets/controls",
            "_model_module_version": "1.5.0",
            "_model_name": "HTMLModel",
            "_view_count": null,
            "_view_module": "@jupyter-widgets/controls",
            "_view_module_version": "1.5.0",
            "_view_name": "HTMLView",
            "description": "",
            "description_tooltip": null,
            "layout": "IPY_MODEL_4fa7171bde2044578ae92efe50c77221",
            "placeholder": "​",
            "style": "IPY_MODEL_7989e89457a94364a85358dcefd6c30f",
            "value": " 455k/455k [00:00&lt;00:00, 8.78kB/s]"
          }
        },
        "6e636a4acd2944638307fd6b5adba5e0": {
          "model_module": "@jupyter-widgets/base",
          "model_name": "LayoutModel",
          "model_module_version": "1.2.0",
          "state": {
            "_model_module": "@jupyter-widgets/base",
            "_model_module_version": "1.2.0",
            "_model_name": "LayoutModel",
            "_view_count": null,
            "_view_module": "@jupyter-widgets/base",
            "_view_module_version": "1.2.0",
            "_view_name": "LayoutView",
            "align_content": null,
            "align_items": null,
            "align_self": null,
            "border": null,
            "bottom": null,
            "display": null,
            "flex": null,
            "flex_flow": null,
            "grid_area": null,
            "grid_auto_columns": null,
            "grid_auto_flow": null,
            "grid_auto_rows": null,
            "grid_column": null,
            "grid_gap": null,
            "grid_row": null,
            "grid_template_areas": null,
            "grid_template_columns": null,
            "grid_template_rows": null,
            "height": null,
            "justify_content": null,
            "justify_items": null,
            "left": null,
            "margin": null,
            "max_height": null,
            "max_width": null,
            "min_height": null,
            "min_width": null,
            "object_fit": null,
            "object_position": null,
            "order": null,
            "overflow": null,
            "overflow_x": null,
            "overflow_y": null,
            "padding": null,
            "right": null,
            "top": null,
            "visibility": null,
            "width": null
          }
        },
        "84b60ce4c975443d813a2e411e7a075e": {
          "model_module": "@jupyter-widgets/base",
          "model_name": "LayoutModel",
          "model_module_version": "1.2.0",
          "state": {
            "_model_module": "@jupyter-widgets/base",
            "_model_module_version": "1.2.0",
            "_model_name": "LayoutModel",
            "_view_count": null,
            "_view_module": "@jupyter-widgets/base",
            "_view_module_version": "1.2.0",
            "_view_name": "LayoutView",
            "align_content": null,
            "align_items": null,
            "align_self": null,
            "border": null,
            "bottom": null,
            "display": null,
            "flex": null,
            "flex_flow": null,
            "grid_area": null,
            "grid_auto_columns": null,
            "grid_auto_flow": null,
            "grid_auto_rows": null,
            "grid_column": null,
            "grid_gap": null,
            "grid_row": null,
            "grid_template_areas": null,
            "grid_template_columns": null,
            "grid_template_rows": null,
            "height": null,
            "justify_content": null,
            "justify_items": null,
            "left": null,
            "margin": null,
            "max_height": null,
            "max_width": null,
            "min_height": null,
            "min_width": null,
            "object_fit": null,
            "object_position": null,
            "order": null,
            "overflow": null,
            "overflow_x": null,
            "overflow_y": null,
            "padding": null,
            "right": null,
            "top": null,
            "visibility": null,
            "width": null
          }
        },
        "e2773d1ee0e24409ab0f98fee849c4ee": {
          "model_module": "@jupyter-widgets/controls",
          "model_name": "DescriptionStyleModel",
          "model_module_version": "1.5.0",
          "state": {
            "_model_module": "@jupyter-widgets/controls",
            "_model_module_version": "1.5.0",
            "_model_name": "DescriptionStyleModel",
            "_view_count": null,
            "_view_module": "@jupyter-widgets/base",
            "_view_module_version": "1.2.0",
            "_view_name": "StyleView",
            "description_width": ""
          }
        },
        "aec7856e2adc41699f9e3e2a4edb3a99": {
          "model_module": "@jupyter-widgets/base",
          "model_name": "LayoutModel",
          "model_module_version": "1.2.0",
          "state": {
            "_model_module": "@jupyter-widgets/base",
            "_model_module_version": "1.2.0",
            "_model_name": "LayoutModel",
            "_view_count": null,
            "_view_module": "@jupyter-widgets/base",
            "_view_module_version": "1.2.0",
            "_view_name": "LayoutView",
            "align_content": null,
            "align_items": null,
            "align_self": null,
            "border": null,
            "bottom": null,
            "display": null,
            "flex": null,
            "flex_flow": null,
            "grid_area": null,
            "grid_auto_columns": null,
            "grid_auto_flow": null,
            "grid_auto_rows": null,
            "grid_column": null,
            "grid_gap": null,
            "grid_row": null,
            "grid_template_areas": null,
            "grid_template_columns": null,
            "grid_template_rows": null,
            "height": null,
            "justify_content": null,
            "justify_items": null,
            "left": null,
            "margin": null,
            "max_height": null,
            "max_width": null,
            "min_height": null,
            "min_width": null,
            "object_fit": null,
            "object_position": null,
            "order": null,
            "overflow": null,
            "overflow_x": null,
            "overflow_y": null,
            "padding": null,
            "right": null,
            "top": null,
            "visibility": null,
            "width": null
          }
        },
        "28dd2a34b7974e62a8cd4100ad6e1fe2": {
          "model_module": "@jupyter-widgets/controls",
          "model_name": "ProgressStyleModel",
          "model_module_version": "1.5.0",
          "state": {
            "_model_module": "@jupyter-widgets/controls",
            "_model_module_version": "1.5.0",
            "_model_name": "ProgressStyleModel",
            "_view_count": null,
            "_view_module": "@jupyter-widgets/base",
            "_view_module_version": "1.2.0",
            "_view_name": "StyleView",
            "bar_color": null,
            "description_width": ""
          }
        },
        "4fa7171bde2044578ae92efe50c77221": {
          "model_module": "@jupyter-widgets/base",
          "model_name": "LayoutModel",
          "model_module_version": "1.2.0",
          "state": {
            "_model_module": "@jupyter-widgets/base",
            "_model_module_version": "1.2.0",
            "_model_name": "LayoutModel",
            "_view_count": null,
            "_view_module": "@jupyter-widgets/base",
            "_view_module_version": "1.2.0",
            "_view_name": "LayoutView",
            "align_content": null,
            "align_items": null,
            "align_self": null,
            "border": null,
            "bottom": null,
            "display": null,
            "flex": null,
            "flex_flow": null,
            "grid_area": null,
            "grid_auto_columns": null,
            "grid_auto_flow": null,
            "grid_auto_rows": null,
            "grid_column": null,
            "grid_gap": null,
            "grid_row": null,
            "grid_template_areas": null,
            "grid_template_columns": null,
            "grid_template_rows": null,
            "height": null,
            "justify_content": null,
            "justify_items": null,
            "left": null,
            "margin": null,
            "max_height": null,
            "max_width": null,
            "min_height": null,
            "min_width": null,
            "object_fit": null,
            "object_position": null,
            "order": null,
            "overflow": null,
            "overflow_x": null,
            "overflow_y": null,
            "padding": null,
            "right": null,
            "top": null,
            "visibility": null,
            "width": null
          }
        },
        "7989e89457a94364a85358dcefd6c30f": {
          "model_module": "@jupyter-widgets/controls",
          "model_name": "DescriptionStyleModel",
          "model_module_version": "1.5.0",
          "state": {
            "_model_module": "@jupyter-widgets/controls",
            "_model_module_version": "1.5.0",
            "_model_name": "DescriptionStyleModel",
            "_view_count": null,
            "_view_module": "@jupyter-widgets/base",
            "_view_module_version": "1.2.0",
            "_view_name": "StyleView",
            "description_width": ""
          }
        },
        "6e679e847c2b4f6f8a51c77c2456c692": {
          "model_module": "@jupyter-widgets/controls",
          "model_name": "HBoxModel",
          "model_module_version": "1.5.0",
          "state": {
            "_dom_classes": [],
            "_model_module": "@jupyter-widgets/controls",
            "_model_module_version": "1.5.0",
            "_model_name": "HBoxModel",
            "_view_count": null,
            "_view_module": "@jupyter-widgets/controls",
            "_view_module_version": "1.5.0",
            "_view_name": "HBoxView",
            "box_style": "",
            "children": [
              "IPY_MODEL_aa7f1567cab04863b33bcb3825fe641b",
              "IPY_MODEL_d3c9d49c87a2479ca2ad47c44f7469a1",
              "IPY_MODEL_776bd2b62a96484495b03d9ec98bebb8"
            ],
            "layout": "IPY_MODEL_097bc7c38b2842c0928211ecc791044e"
          }
        },
        "aa7f1567cab04863b33bcb3825fe641b": {
          "model_module": "@jupyter-widgets/controls",
          "model_name": "HTMLModel",
          "model_module_version": "1.5.0",
          "state": {
            "_dom_classes": [],
            "_model_module": "@jupyter-widgets/controls",
            "_model_module_version": "1.5.0",
            "_model_name": "HTMLModel",
            "_view_count": null,
            "_view_module": "@jupyter-widgets/controls",
            "_view_module_version": "1.5.0",
            "_view_name": "HTMLView",
            "description": "",
            "description_tooltip": null,
            "layout": "IPY_MODEL_d2a19916854542f4b5517dada0ba9850",
            "placeholder": "​",
            "style": "IPY_MODEL_5f952bbb3193405ab78a8a6e40330a38",
            "value": "Downloading special_tokens_map.json: 100%"
          }
        },
        "d3c9d49c87a2479ca2ad47c44f7469a1": {
          "model_module": "@jupyter-widgets/controls",
          "model_name": "FloatProgressModel",
          "model_module_version": "1.5.0",
          "state": {
            "_dom_classes": [],
            "_model_module": "@jupyter-widgets/controls",
            "_model_module_version": "1.5.0",
            "_model_name": "FloatProgressModel",
            "_view_count": null,
            "_view_module": "@jupyter-widgets/controls",
            "_view_module_version": "1.5.0",
            "_view_name": "ProgressView",
            "bar_style": "success",
            "description": "",
            "description_tooltip": null,
            "layout": "IPY_MODEL_3589ccdc0dd54320a6b4e243bc41d4cb",
            "max": 112,
            "min": 0,
            "orientation": "horizontal",
            "style": "IPY_MODEL_3abc3fe138ba40d4abf2411091384f04",
            "value": 112
          }
        },
        "776bd2b62a96484495b03d9ec98bebb8": {
          "model_module": "@jupyter-widgets/controls",
          "model_name": "HTMLModel",
          "model_module_version": "1.5.0",
          "state": {
            "_dom_classes": [],
            "_model_module": "@jupyter-widgets/controls",
            "_model_module_version": "1.5.0",
            "_model_name": "HTMLModel",
            "_view_count": null,
            "_view_module": "@jupyter-widgets/controls",
            "_view_module_version": "1.5.0",
            "_view_name": "HTMLView",
            "description": "",
            "description_tooltip": null,
            "layout": "IPY_MODEL_c0d4388fad6645b393c52f05cd75e6cd",
            "placeholder": "​",
            "style": "IPY_MODEL_57da72c431b04a37b81172dffc3150a7",
            "value": " 112/112 [00:00&lt;00:00, 570B/s]"
          }
        },
        "097bc7c38b2842c0928211ecc791044e": {
          "model_module": "@jupyter-widgets/base",
          "model_name": "LayoutModel",
          "model_module_version": "1.2.0",
          "state": {
            "_model_module": "@jupyter-widgets/base",
            "_model_module_version": "1.2.0",
            "_model_name": "LayoutModel",
            "_view_count": null,
            "_view_module": "@jupyter-widgets/base",
            "_view_module_version": "1.2.0",
            "_view_name": "LayoutView",
            "align_content": null,
            "align_items": null,
            "align_self": null,
            "border": null,
            "bottom": null,
            "display": null,
            "flex": null,
            "flex_flow": null,
            "grid_area": null,
            "grid_auto_columns": null,
            "grid_auto_flow": null,
            "grid_auto_rows": null,
            "grid_column": null,
            "grid_gap": null,
            "grid_row": null,
            "grid_template_areas": null,
            "grid_template_columns": null,
            "grid_template_rows": null,
            "height": null,
            "justify_content": null,
            "justify_items": null,
            "left": null,
            "margin": null,
            "max_height": null,
            "max_width": null,
            "min_height": null,
            "min_width": null,
            "object_fit": null,
            "object_position": null,
            "order": null,
            "overflow": null,
            "overflow_x": null,
            "overflow_y": null,
            "padding": null,
            "right": null,
            "top": null,
            "visibility": null,
            "width": null
          }
        },
        "d2a19916854542f4b5517dada0ba9850": {
          "model_module": "@jupyter-widgets/base",
          "model_name": "LayoutModel",
          "model_module_version": "1.2.0",
          "state": {
            "_model_module": "@jupyter-widgets/base",
            "_model_module_version": "1.2.0",
            "_model_name": "LayoutModel",
            "_view_count": null,
            "_view_module": "@jupyter-widgets/base",
            "_view_module_version": "1.2.0",
            "_view_name": "LayoutView",
            "align_content": null,
            "align_items": null,
            "align_self": null,
            "border": null,
            "bottom": null,
            "display": null,
            "flex": null,
            "flex_flow": null,
            "grid_area": null,
            "grid_auto_columns": null,
            "grid_auto_flow": null,
            "grid_auto_rows": null,
            "grid_column": null,
            "grid_gap": null,
            "grid_row": null,
            "grid_template_areas": null,
            "grid_template_columns": null,
            "grid_template_rows": null,
            "height": null,
            "justify_content": null,
            "justify_items": null,
            "left": null,
            "margin": null,
            "max_height": null,
            "max_width": null,
            "min_height": null,
            "min_width": null,
            "object_fit": null,
            "object_position": null,
            "order": null,
            "overflow": null,
            "overflow_x": null,
            "overflow_y": null,
            "padding": null,
            "right": null,
            "top": null,
            "visibility": null,
            "width": null
          }
        },
        "5f952bbb3193405ab78a8a6e40330a38": {
          "model_module": "@jupyter-widgets/controls",
          "model_name": "DescriptionStyleModel",
          "model_module_version": "1.5.0",
          "state": {
            "_model_module": "@jupyter-widgets/controls",
            "_model_module_version": "1.5.0",
            "_model_name": "DescriptionStyleModel",
            "_view_count": null,
            "_view_module": "@jupyter-widgets/base",
            "_view_module_version": "1.2.0",
            "_view_name": "StyleView",
            "description_width": ""
          }
        },
        "3589ccdc0dd54320a6b4e243bc41d4cb": {
          "model_module": "@jupyter-widgets/base",
          "model_name": "LayoutModel",
          "model_module_version": "1.2.0",
          "state": {
            "_model_module": "@jupyter-widgets/base",
            "_model_module_version": "1.2.0",
            "_model_name": "LayoutModel",
            "_view_count": null,
            "_view_module": "@jupyter-widgets/base",
            "_view_module_version": "1.2.0",
            "_view_name": "LayoutView",
            "align_content": null,
            "align_items": null,
            "align_self": null,
            "border": null,
            "bottom": null,
            "display": null,
            "flex": null,
            "flex_flow": null,
            "grid_area": null,
            "grid_auto_columns": null,
            "grid_auto_flow": null,
            "grid_auto_rows": null,
            "grid_column": null,
            "grid_gap": null,
            "grid_row": null,
            "grid_template_areas": null,
            "grid_template_columns": null,
            "grid_template_rows": null,
            "height": null,
            "justify_content": null,
            "justify_items": null,
            "left": null,
            "margin": null,
            "max_height": null,
            "max_width": null,
            "min_height": null,
            "min_width": null,
            "object_fit": null,
            "object_position": null,
            "order": null,
            "overflow": null,
            "overflow_x": null,
            "overflow_y": null,
            "padding": null,
            "right": null,
            "top": null,
            "visibility": null,
            "width": null
          }
        },
        "3abc3fe138ba40d4abf2411091384f04": {
          "model_module": "@jupyter-widgets/controls",
          "model_name": "ProgressStyleModel",
          "model_module_version": "1.5.0",
          "state": {
            "_model_module": "@jupyter-widgets/controls",
            "_model_module_version": "1.5.0",
            "_model_name": "ProgressStyleModel",
            "_view_count": null,
            "_view_module": "@jupyter-widgets/base",
            "_view_module_version": "1.2.0",
            "_view_name": "StyleView",
            "bar_color": null,
            "description_width": ""
          }
        },
        "c0d4388fad6645b393c52f05cd75e6cd": {
          "model_module": "@jupyter-widgets/base",
          "model_name": "LayoutModel",
          "model_module_version": "1.2.0",
          "state": {
            "_model_module": "@jupyter-widgets/base",
            "_model_module_version": "1.2.0",
            "_model_name": "LayoutModel",
            "_view_count": null,
            "_view_module": "@jupyter-widgets/base",
            "_view_module_version": "1.2.0",
            "_view_name": "LayoutView",
            "align_content": null,
            "align_items": null,
            "align_self": null,
            "border": null,
            "bottom": null,
            "display": null,
            "flex": null,
            "flex_flow": null,
            "grid_area": null,
            "grid_auto_columns": null,
            "grid_auto_flow": null,
            "grid_auto_rows": null,
            "grid_column": null,
            "grid_gap": null,
            "grid_row": null,
            "grid_template_areas": null,
            "grid_template_columns": null,
            "grid_template_rows": null,
            "height": null,
            "justify_content": null,
            "justify_items": null,
            "left": null,
            "margin": null,
            "max_height": null,
            "max_width": null,
            "min_height": null,
            "min_width": null,
            "object_fit": null,
            "object_position": null,
            "order": null,
            "overflow": null,
            "overflow_x": null,
            "overflow_y": null,
            "padding": null,
            "right": null,
            "top": null,
            "visibility": null,
            "width": null
          }
        },
        "57da72c431b04a37b81172dffc3150a7": {
          "model_module": "@jupyter-widgets/controls",
          "model_name": "DescriptionStyleModel",
          "model_module_version": "1.5.0",
          "state": {
            "_model_module": "@jupyter-widgets/controls",
            "_model_module_version": "1.5.0",
            "_model_name": "DescriptionStyleModel",
            "_view_count": null,
            "_view_module": "@jupyter-widgets/base",
            "_view_module_version": "1.2.0",
            "_view_name": "StyleView",
            "description_width": ""
          }
        },
        "269c41f5260b48beb6372e509fe48a77": {
          "model_module": "@jupyter-widgets/controls",
          "model_name": "HBoxModel",
          "model_module_version": "1.5.0",
          "state": {
            "_dom_classes": [],
            "_model_module": "@jupyter-widgets/controls",
            "_model_module_version": "1.5.0",
            "_model_name": "HBoxModel",
            "_view_count": null,
            "_view_module": "@jupyter-widgets/controls",
            "_view_module_version": "1.5.0",
            "_view_name": "HBoxView",
            "box_style": "",
            "children": [
              "IPY_MODEL_cbff99e849bf47f5be5a22fe90da1edc",
              "IPY_MODEL_676c7f4b98dc41ceae5af91aa4e7ef53",
              "IPY_MODEL_52944097b6e84f9f9e8ded2da746e4b7"
            ],
            "layout": "IPY_MODEL_0d9eb9dfaab84e0f8289f68bd6ff5ec8"
          }
        },
        "cbff99e849bf47f5be5a22fe90da1edc": {
          "model_module": "@jupyter-widgets/controls",
          "model_name": "HTMLModel",
          "model_module_version": "1.5.0",
          "state": {
            "_dom_classes": [],
            "_model_module": "@jupyter-widgets/controls",
            "_model_module_version": "1.5.0",
            "_model_name": "HTMLModel",
            "_view_count": null,
            "_view_module": "@jupyter-widgets/controls",
            "_view_module_version": "1.5.0",
            "_view_name": "HTMLView",
            "description": "",
            "description_tooltip": null,
            "layout": "IPY_MODEL_d9b5a46b37424f19b36b1bbc357784f6",
            "placeholder": "​",
            "style": "IPY_MODEL_87065eb481de48a589cde1b8dbefdc72",
            "value": "Downloading pytorch_model.bin: 100%"
          }
        },
        "676c7f4b98dc41ceae5af91aa4e7ef53": {
          "model_module": "@jupyter-widgets/controls",
          "model_name": "FloatProgressModel",
          "model_module_version": "1.5.0",
          "state": {
            "_dom_classes": [],
            "_model_module": "@jupyter-widgets/controls",
            "_model_module_version": "1.5.0",
            "_model_name": "FloatProgressModel",
            "_view_count": null,
            "_view_module": "@jupyter-widgets/controls",
            "_view_module_version": "1.5.0",
            "_view_name": "ProgressView",
            "bar_style": "success",
            "description": "",
            "description_tooltip": null,
            "layout": "IPY_MODEL_0502ef7f0a1c4eb587f3899caf5b2572",
            "max": 265486777,
            "min": 0,
            "orientation": "horizontal",
            "style": "IPY_MODEL_b913630450a64cab9e20feded77330bd",
            "value": 265486777
          }
        },
        "52944097b6e84f9f9e8ded2da746e4b7": {
          "model_module": "@jupyter-widgets/controls",
          "model_name": "HTMLModel",
          "model_module_version": "1.5.0",
          "state": {
            "_dom_classes": [],
            "_model_module": "@jupyter-widgets/controls",
            "_model_module_version": "1.5.0",
            "_model_name": "HTMLModel",
            "_view_count": null,
            "_view_module": "@jupyter-widgets/controls",
            "_view_module_version": "1.5.0",
            "_view_name": "HTMLView",
            "description": "",
            "description_tooltip": null,
            "layout": "IPY_MODEL_69b088169c7b493b8ef72ed6d4d89d4e",
            "placeholder": "​",
            "style": "IPY_MODEL_2e22b803513543f184b82448b092ee98",
            "value": " 253M/253M [00:05&lt;00:00, 47.7MB/s]"
          }
        },
        "0d9eb9dfaab84e0f8289f68bd6ff5ec8": {
          "model_module": "@jupyter-widgets/base",
          "model_name": "LayoutModel",
          "model_module_version": "1.2.0",
          "state": {
            "_model_module": "@jupyter-widgets/base",
            "_model_module_version": "1.2.0",
            "_model_name": "LayoutModel",
            "_view_count": null,
            "_view_module": "@jupyter-widgets/base",
            "_view_module_version": "1.2.0",
            "_view_name": "LayoutView",
            "align_content": null,
            "align_items": null,
            "align_self": null,
            "border": null,
            "bottom": null,
            "display": null,
            "flex": null,
            "flex_flow": null,
            "grid_area": null,
            "grid_auto_columns": null,
            "grid_auto_flow": null,
            "grid_auto_rows": null,
            "grid_column": null,
            "grid_gap": null,
            "grid_row": null,
            "grid_template_areas": null,
            "grid_template_columns": null,
            "grid_template_rows": null,
            "height": null,
            "justify_content": null,
            "justify_items": null,
            "left": null,
            "margin": null,
            "max_height": null,
            "max_width": null,
            "min_height": null,
            "min_width": null,
            "object_fit": null,
            "object_position": null,
            "order": null,
            "overflow": null,
            "overflow_x": null,
            "overflow_y": null,
            "padding": null,
            "right": null,
            "top": null,
            "visibility": null,
            "width": null
          }
        },
        "d9b5a46b37424f19b36b1bbc357784f6": {
          "model_module": "@jupyter-widgets/base",
          "model_name": "LayoutModel",
          "model_module_version": "1.2.0",
          "state": {
            "_model_module": "@jupyter-widgets/base",
            "_model_module_version": "1.2.0",
            "_model_name": "LayoutModel",
            "_view_count": null,
            "_view_module": "@jupyter-widgets/base",
            "_view_module_version": "1.2.0",
            "_view_name": "LayoutView",
            "align_content": null,
            "align_items": null,
            "align_self": null,
            "border": null,
            "bottom": null,
            "display": null,
            "flex": null,
            "flex_flow": null,
            "grid_area": null,
            "grid_auto_columns": null,
            "grid_auto_flow": null,
            "grid_auto_rows": null,
            "grid_column": null,
            "grid_gap": null,
            "grid_row": null,
            "grid_template_areas": null,
            "grid_template_columns": null,
            "grid_template_rows": null,
            "height": null,
            "justify_content": null,
            "justify_items": null,
            "left": null,
            "margin": null,
            "max_height": null,
            "max_width": null,
            "min_height": null,
            "min_width": null,
            "object_fit": null,
            "object_position": null,
            "order": null,
            "overflow": null,
            "overflow_x": null,
            "overflow_y": null,
            "padding": null,
            "right": null,
            "top": null,
            "visibility": null,
            "width": null
          }
        },
        "87065eb481de48a589cde1b8dbefdc72": {
          "model_module": "@jupyter-widgets/controls",
          "model_name": "DescriptionStyleModel",
          "model_module_version": "1.5.0",
          "state": {
            "_model_module": "@jupyter-widgets/controls",
            "_model_module_version": "1.5.0",
            "_model_name": "DescriptionStyleModel",
            "_view_count": null,
            "_view_module": "@jupyter-widgets/base",
            "_view_module_version": "1.2.0",
            "_view_name": "StyleView",
            "description_width": ""
          }
        },
        "0502ef7f0a1c4eb587f3899caf5b2572": {
          "model_module": "@jupyter-widgets/base",
          "model_name": "LayoutModel",
          "model_module_version": "1.2.0",
          "state": {
            "_model_module": "@jupyter-widgets/base",
            "_model_module_version": "1.2.0",
            "_model_name": "LayoutModel",
            "_view_count": null,
            "_view_module": "@jupyter-widgets/base",
            "_view_module_version": "1.2.0",
            "_view_name": "LayoutView",
            "align_content": null,
            "align_items": null,
            "align_self": null,
            "border": null,
            "bottom": null,
            "display": null,
            "flex": null,
            "flex_flow": null,
            "grid_area": null,
            "grid_auto_columns": null,
            "grid_auto_flow": null,
            "grid_auto_rows": null,
            "grid_column": null,
            "grid_gap": null,
            "grid_row": null,
            "grid_template_areas": null,
            "grid_template_columns": null,
            "grid_template_rows": null,
            "height": null,
            "justify_content": null,
            "justify_items": null,
            "left": null,
            "margin": null,
            "max_height": null,
            "max_width": null,
            "min_height": null,
            "min_width": null,
            "object_fit": null,
            "object_position": null,
            "order": null,
            "overflow": null,
            "overflow_x": null,
            "overflow_y": null,
            "padding": null,
            "right": null,
            "top": null,
            "visibility": null,
            "width": null
          }
        },
        "b913630450a64cab9e20feded77330bd": {
          "model_module": "@jupyter-widgets/controls",
          "model_name": "ProgressStyleModel",
          "model_module_version": "1.5.0",
          "state": {
            "_model_module": "@jupyter-widgets/controls",
            "_model_module_version": "1.5.0",
            "_model_name": "ProgressStyleModel",
            "_view_count": null,
            "_view_module": "@jupyter-widgets/base",
            "_view_module_version": "1.2.0",
            "_view_name": "StyleView",
            "bar_color": null,
            "description_width": ""
          }
        },
        "69b088169c7b493b8ef72ed6d4d89d4e": {
          "model_module": "@jupyter-widgets/base",
          "model_name": "LayoutModel",
          "model_module_version": "1.2.0",
          "state": {
            "_model_module": "@jupyter-widgets/base",
            "_model_module_version": "1.2.0",
            "_model_name": "LayoutModel",
            "_view_count": null,
            "_view_module": "@jupyter-widgets/base",
            "_view_module_version": "1.2.0",
            "_view_name": "LayoutView",
            "align_content": null,
            "align_items": null,
            "align_self": null,
            "border": null,
            "bottom": null,
            "display": null,
            "flex": null,
            "flex_flow": null,
            "grid_area": null,
            "grid_auto_columns": null,
            "grid_auto_flow": null,
            "grid_auto_rows": null,
            "grid_column": null,
            "grid_gap": null,
            "grid_row": null,
            "grid_template_areas": null,
            "grid_template_columns": null,
            "grid_template_rows": null,
            "height": null,
            "justify_content": null,
            "justify_items": null,
            "left": null,
            "margin": null,
            "max_height": null,
            "max_width": null,
            "min_height": null,
            "min_width": null,
            "object_fit": null,
            "object_position": null,
            "order": null,
            "overflow": null,
            "overflow_x": null,
            "overflow_y": null,
            "padding": null,
            "right": null,
            "top": null,
            "visibility": null,
            "width": null
          }
        },
        "2e22b803513543f184b82448b092ee98": {
          "model_module": "@jupyter-widgets/controls",
          "model_name": "DescriptionStyleModel",
          "model_module_version": "1.5.0",
          "state": {
            "_model_module": "@jupyter-widgets/controls",
            "_model_module_version": "1.5.0",
            "_model_name": "DescriptionStyleModel",
            "_view_count": null,
            "_view_module": "@jupyter-widgets/base",
            "_view_module_version": "1.2.0",
            "_view_name": "StyleView",
            "description_width": ""
          }
        }
      }
    }
  },
  "cells": [
    {
      "cell_type": "code",
      "source": [
        "#installing missing library\n",
        "!pip install transformers "
      ],
      "metadata": {
        "colab": {
          "base_uri": "https://localhost:8080/"
        },
        "id": "oIUif9tqTPg-",
        "outputId": "26f84b86-29b5-4916-f7ae-29789ca029fb"
      },
      "execution_count": 1,
      "outputs": [
        {
          "output_type": "stream",
          "name": "stdout",
          "text": [
            "Looking in indexes: https://pypi.org/simple, https://us-python.pkg.dev/colab-wheels/public/simple/\n",
            "Collecting transformers\n",
            "  Downloading transformers-4.21.3-py3-none-any.whl (4.7 MB)\n",
            "\u001b[K     |████████████████████████████████| 4.7 MB 25.8 MB/s \n",
            "\u001b[?25hRequirement already satisfied: regex!=2019.12.17 in /usr/local/lib/python3.7/dist-packages (from transformers) (2022.6.2)\n",
            "Requirement already satisfied: requests in /usr/local/lib/python3.7/dist-packages (from transformers) (2.23.0)\n",
            "Requirement already satisfied: tqdm>=4.27 in /usr/local/lib/python3.7/dist-packages (from transformers) (4.64.0)\n",
            "Requirement already satisfied: filelock in /usr/local/lib/python3.7/dist-packages (from transformers) (3.8.0)\n",
            "Requirement already satisfied: packaging>=20.0 in /usr/local/lib/python3.7/dist-packages (from transformers) (21.3)\n",
            "Requirement already satisfied: numpy>=1.17 in /usr/local/lib/python3.7/dist-packages (from transformers) (1.21.6)\n",
            "Requirement already satisfied: importlib-metadata in /usr/local/lib/python3.7/dist-packages (from transformers) (4.12.0)\n",
            "Collecting tokenizers!=0.11.3,<0.13,>=0.11.1\n",
            "  Downloading tokenizers-0.12.1-cp37-cp37m-manylinux_2_12_x86_64.manylinux2010_x86_64.whl (6.6 MB)\n",
            "\u001b[K     |████████████████████████████████| 6.6 MB 48.4 MB/s \n",
            "\u001b[?25hCollecting huggingface-hub<1.0,>=0.1.0\n",
            "  Downloading huggingface_hub-0.9.1-py3-none-any.whl (120 kB)\n",
            "\u001b[K     |████████████████████████████████| 120 kB 61.9 MB/s \n",
            "\u001b[?25hRequirement already satisfied: pyyaml>=5.1 in /usr/local/lib/python3.7/dist-packages (from transformers) (6.0)\n",
            "Requirement already satisfied: typing-extensions>=3.7.4.3 in /usr/local/lib/python3.7/dist-packages (from huggingface-hub<1.0,>=0.1.0->transformers) (4.1.1)\n",
            "Requirement already satisfied: pyparsing!=3.0.5,>=2.0.2 in /usr/local/lib/python3.7/dist-packages (from packaging>=20.0->transformers) (3.0.9)\n",
            "Requirement already satisfied: zipp>=0.5 in /usr/local/lib/python3.7/dist-packages (from importlib-metadata->transformers) (3.8.1)\n",
            "Requirement already satisfied: chardet<4,>=3.0.2 in /usr/local/lib/python3.7/dist-packages (from requests->transformers) (3.0.4)\n",
            "Requirement already satisfied: urllib3!=1.25.0,!=1.25.1,<1.26,>=1.21.1 in /usr/local/lib/python3.7/dist-packages (from requests->transformers) (1.24.3)\n",
            "Requirement already satisfied: idna<3,>=2.5 in /usr/local/lib/python3.7/dist-packages (from requests->transformers) (2.10)\n",
            "Requirement already satisfied: certifi>=2017.4.17 in /usr/local/lib/python3.7/dist-packages (from requests->transformers) (2022.6.15)\n",
            "Installing collected packages: tokenizers, huggingface-hub, transformers\n",
            "Successfully installed huggingface-hub-0.9.1 tokenizers-0.12.1 transformers-4.21.3\n"
          ]
        }
      ]
    },
    {
      "cell_type": "code",
      "execution_count": 2,
      "metadata": {
        "id": "Hj-qkx2S3LeK"
      },
      "outputs": [],
      "source": [
        "from transformers import AutoTokenizer, AutoModel\n",
        "import torch"
      ]
    },
    {
      "cell_type": "code",
      "source": [
        "tokenizer = AutoTokenizer.from_pretrained('sentence-transformers/stsb-distilbert-base')\n",
        "model = AutoModel.from_pretrained('sentence-transformers/stsb-distilbert-base')"
      ],
      "metadata": {
        "colab": {
          "base_uri": "https://localhost:8080/",
          "height": 209,
          "referenced_widgets": [
            "91fd7b8e4aed4388a8f64137fce0e186",
            "e6071a966c83403391571c547dea1081",
            "95a61f44b43d4a519a051dd080e9db36",
            "b56f84fc037a4a6282a510cf4dc99ced",
            "3996a4bd7d3a4fc4afbf5688898d843e",
            "5c98e874491b459f9c1c9093dc5d15d9",
            "b8eda22fe37b494592dcb80bd5aa43f6",
            "681172c7502c4faab974fab5c0bf9854",
            "f757d032e32145139f1285c624fd3f86",
            "c99121525e8b4c8e8480564c624f008f",
            "39297728db944464aa25084b821d618c",
            "ab2bfc657fad4204abeb32ae456b3939",
            "833b112b0e814a42b190a33e99d1362a",
            "37f56d40749745148d05fe95f77f90f5",
            "b4335eb969f34729b20f9ee3f50f7a67",
            "64c3a56069944f398039698fce04cf09",
            "a8cb76005cee4703b76758940bd48bde",
            "4d47fbfa0ce740a0b89906dbd08f3357",
            "338c437412a9411ca91f16707e5da3b0",
            "8c99c362e9414dd9b9ea7d070eec4276",
            "9ff216c977c64910809388256bfee331",
            "4193ed46f77a45268adf2c1a87cdac0a",
            "429cf588433847b488c381f16b713b65",
            "c3dd39d675da4d20bc8fd5f3af7f24c1",
            "fedd10fe0bc64016a84a542df50d5ed5",
            "67378128f9d5483d8da803bdaeac63bc",
            "8e0dae5c4a2b48a0bed0f4dab7f26f02",
            "0fa5b04ec22144d29ca4c8aceb09c1ff",
            "2f8ad7b341ec4cea82a0d434fb0f910f",
            "c41d638d4a7042a48c378e7aa29613f3",
            "0988cd8f773d40bfb9000e4934a9e5ac",
            "ebfa627c4d1b449db190d106bf550163",
            "48940c896e80413db80267115bb1806c",
            "2ce83b54237c46cfab63d3c392d7f0f1",
            "be0ce079b63f45dbbcd23866c6803985",
            "d9ccef5854334b8189495c9b5017205d",
            "5b8ccbc5ce2f4bb3ac541a273d2a66d1",
            "6e636a4acd2944638307fd6b5adba5e0",
            "84b60ce4c975443d813a2e411e7a075e",
            "e2773d1ee0e24409ab0f98fee849c4ee",
            "aec7856e2adc41699f9e3e2a4edb3a99",
            "28dd2a34b7974e62a8cd4100ad6e1fe2",
            "4fa7171bde2044578ae92efe50c77221",
            "7989e89457a94364a85358dcefd6c30f",
            "6e679e847c2b4f6f8a51c77c2456c692",
            "aa7f1567cab04863b33bcb3825fe641b",
            "d3c9d49c87a2479ca2ad47c44f7469a1",
            "776bd2b62a96484495b03d9ec98bebb8",
            "097bc7c38b2842c0928211ecc791044e",
            "d2a19916854542f4b5517dada0ba9850",
            "5f952bbb3193405ab78a8a6e40330a38",
            "3589ccdc0dd54320a6b4e243bc41d4cb",
            "3abc3fe138ba40d4abf2411091384f04",
            "c0d4388fad6645b393c52f05cd75e6cd",
            "57da72c431b04a37b81172dffc3150a7",
            "269c41f5260b48beb6372e509fe48a77",
            "cbff99e849bf47f5be5a22fe90da1edc",
            "676c7f4b98dc41ceae5af91aa4e7ef53",
            "52944097b6e84f9f9e8ded2da746e4b7",
            "0d9eb9dfaab84e0f8289f68bd6ff5ec8",
            "d9b5a46b37424f19b36b1bbc357784f6",
            "87065eb481de48a589cde1b8dbefdc72",
            "0502ef7f0a1c4eb587f3899caf5b2572",
            "b913630450a64cab9e20feded77330bd",
            "69b088169c7b493b8ef72ed6d4d89d4e",
            "2e22b803513543f184b82448b092ee98"
          ]
        },
        "id": "Ys3oi6IvThxj",
        "outputId": "45f2541b-8681-4937-b0e2-8d47d55432d3"
      },
      "execution_count": 3,
      "outputs": [
        {
          "output_type": "display_data",
          "data": {
            "text/plain": [
              "Downloading tokenizer_config.json:   0%|          | 0.00/489 [00:00<?, ?B/s]"
            ],
            "application/vnd.jupyter.widget-view+json": {
              "version_major": 2,
              "version_minor": 0,
              "model_id": "91fd7b8e4aed4388a8f64137fce0e186"
            }
          },
          "metadata": {}
        },
        {
          "output_type": "display_data",
          "data": {
            "text/plain": [
              "Downloading config.json:   0%|          | 0.00/539 [00:00<?, ?B/s]"
            ],
            "application/vnd.jupyter.widget-view+json": {
              "version_major": 2,
              "version_minor": 0,
              "model_id": "ab2bfc657fad4204abeb32ae456b3939"
            }
          },
          "metadata": {}
        },
        {
          "output_type": "display_data",
          "data": {
            "text/plain": [
              "Downloading vocab.txt:   0%|          | 0.00/226k [00:00<?, ?B/s]"
            ],
            "application/vnd.jupyter.widget-view+json": {
              "version_major": 2,
              "version_minor": 0,
              "model_id": "429cf588433847b488c381f16b713b65"
            }
          },
          "metadata": {}
        },
        {
          "output_type": "display_data",
          "data": {
            "text/plain": [
              "Downloading tokenizer.json:   0%|          | 0.00/455k [00:00<?, ?B/s]"
            ],
            "application/vnd.jupyter.widget-view+json": {
              "version_major": 2,
              "version_minor": 0,
              "model_id": "2ce83b54237c46cfab63d3c392d7f0f1"
            }
          },
          "metadata": {}
        },
        {
          "output_type": "display_data",
          "data": {
            "text/plain": [
              "Downloading special_tokens_map.json:   0%|          | 0.00/112 [00:00<?, ?B/s]"
            ],
            "application/vnd.jupyter.widget-view+json": {
              "version_major": 2,
              "version_minor": 0,
              "model_id": "6e679e847c2b4f6f8a51c77c2456c692"
            }
          },
          "metadata": {}
        },
        {
          "output_type": "display_data",
          "data": {
            "text/plain": [
              "Downloading pytorch_model.bin:   0%|          | 0.00/253M [00:00<?, ?B/s]"
            ],
            "application/vnd.jupyter.widget-view+json": {
              "version_major": 2,
              "version_minor": 0,
              "model_id": "269c41f5260b48beb6372e509fe48a77"
            }
          },
          "metadata": {}
        }
      ]
    },
    {
      "cell_type": "code",
      "source": [
        "text = \"hello world!\"\n",
        "\n",
        "tokens = tokenizer.encode_plus(text, max_length=128,\n",
        "                               truncation=True, padding='max_length',\n",
        "                               return_tensors='pt')"
      ],
      "metadata": {
        "id": "3HIf7AQ5Tpuh"
      },
      "execution_count": 4,
      "outputs": []
    },
    {
      "cell_type": "code",
      "source": [
        "outputs = model(**tokens)\n",
        "outputs"
      ],
      "metadata": {
        "colab": {
          "base_uri": "https://localhost:8080/"
        },
        "id": "WjvKCG-6Txcb",
        "outputId": "322d1f18-4896-4c92-c4d2-7f132a151c4d"
      },
      "execution_count": 5,
      "outputs": [
        {
          "output_type": "execute_result",
          "data": {
            "text/plain": [
              "BaseModelOutput(last_hidden_state=tensor([[[-1.5872,  0.4290, -0.6303,  ..., -0.2767,  0.7593,  0.5782],\n",
              "         [-1.5122,  0.8271, -0.3605,  ...,  0.0248,  0.9586,  0.2221],\n",
              "         [-1.1622,  0.1706, -0.2628,  ..., -0.0566,  0.6829,  0.3858],\n",
              "         ...,\n",
              "         [-1.6612,  0.5686, -0.6592,  ...,  0.0665,  0.2652,  0.6174],\n",
              "         [-1.5050,  0.4754, -0.5813,  ...,  0.1066,  0.6722,  0.5357],\n",
              "         [-1.7271,  0.2002, -0.5729,  ...,  0.2163,  0.7831,  0.5169]]],\n",
              "       grad_fn=<NativeLayerNormBackward0>), hidden_states=None, attentions=None)"
            ]
          },
          "metadata": {},
          "execution_count": 5
        }
      ]
    },
    {
      "cell_type": "code",
      "source": [
        "embeddings = outputs.last_hidden_state\n",
        "embeddings"
      ],
      "metadata": {
        "colab": {
          "base_uri": "https://localhost:8080/"
        },
        "id": "gt056HuST3Qz",
        "outputId": "9971a5ec-1e57-4725-959d-d0ee89a55a01"
      },
      "execution_count": 6,
      "outputs": [
        {
          "output_type": "execute_result",
          "data": {
            "text/plain": [
              "tensor([[[-1.5872,  0.4290, -0.6303,  ..., -0.2767,  0.7593,  0.5782],\n",
              "         [-1.5122,  0.8271, -0.3605,  ...,  0.0248,  0.9586,  0.2221],\n",
              "         [-1.1622,  0.1706, -0.2628,  ..., -0.0566,  0.6829,  0.3858],\n",
              "         ...,\n",
              "         [-1.6612,  0.5686, -0.6592,  ...,  0.0665,  0.2652,  0.6174],\n",
              "         [-1.5050,  0.4754, -0.5813,  ...,  0.1066,  0.6722,  0.5357],\n",
              "         [-1.7271,  0.2002, -0.5729,  ...,  0.2163,  0.7831,  0.5169]]],\n",
              "       grad_fn=<NativeLayerNormBackward0>)"
            ]
          },
          "metadata": {},
          "execution_count": 6
        }
      ]
    },
    {
      "cell_type": "code",
      "source": [
        "embeddings.shape"
      ],
      "metadata": {
        "colab": {
          "base_uri": "https://localhost:8080/"
        },
        "id": "05UbffwjT7XS",
        "outputId": "9e8eba41-9964-4ee4-acba-60c755dcfdf4"
      },
      "execution_count": 7,
      "outputs": [
        {
          "output_type": "execute_result",
          "data": {
            "text/plain": [
              "torch.Size([1, 128, 768])"
            ]
          },
          "metadata": {},
          "execution_count": 7
        }
      ]
    },
    {
      "cell_type": "code",
      "source": [
        "'''\n",
        "After we have produced our dense vectors embeddings\n",
        "we need to perform a mean pooling operation on them to create a single vector encoding (the sentence embedding). \n",
        "To do this mean pooling operation we will need to multiply each value in our embeddings tensor by it's respective attention_mask value\n",
        "- so that we ignore non-real tokens.\n",
        "'''"
      ],
      "metadata": {
        "colab": {
          "base_uri": "https://localhost:8080/",
          "height": 71
        },
        "id": "EOFJBqx3ULW1",
        "outputId": "1476647f-3b2c-4e1e-a0c7-3c07f13aaff4"
      },
      "execution_count": 9,
      "outputs": [
        {
          "output_type": "execute_result",
          "data": {
            "text/plain": [
              "\"\\nAfter we have produced our dense vectors embeddings\\nwe need to perform a mean pooling operation on them to create a single vector encoding (the sentence embedding). \\nTo do this mean pooling operation we will need to multiply each value in our embeddings tensor by it's respective attention_mask value\\n- so that we ignore non-real tokens.\\n\""
            ],
            "application/vnd.google.colaboratory.intrinsic+json": {
              "type": "string"
            }
          },
          "metadata": {},
          "execution_count": 9
        }
      ]
    },
    {
      "cell_type": "code",
      "source": [
        "attention_mask = tokens['attention_mask']\n",
        "attention_mask.shape"
      ],
      "metadata": {
        "colab": {
          "base_uri": "https://localhost:8080/"
        },
        "id": "VSVM8GYoUGjz",
        "outputId": "6d6bc92a-1114-4174-ebfd-bd65d1158d2e"
      },
      "execution_count": 8,
      "outputs": [
        {
          "output_type": "execute_result",
          "data": {
            "text/plain": [
              "torch.Size([1, 128])"
            ]
          },
          "metadata": {},
          "execution_count": 8
        }
      ]
    },
    {
      "cell_type": "code",
      "source": [
        "mask = attention_mask.unsqueeze(-1).expand(embeddings.size()).float()\n",
        "mask.shape"
      ],
      "metadata": {
        "colab": {
          "base_uri": "https://localhost:8080/"
        },
        "id": "6in6yDBnUiZs",
        "outputId": "9d7385c3-4a4e-4405-d881-da9bc52ff5c4"
      },
      "execution_count": 10,
      "outputs": [
        {
          "output_type": "execute_result",
          "data": {
            "text/plain": [
              "torch.Size([1, 128, 768])"
            ]
          },
          "metadata": {},
          "execution_count": 10
        }
      ]
    },
    {
      "cell_type": "code",
      "source": [
        "attention_mask"
      ],
      "metadata": {
        "colab": {
          "base_uri": "https://localhost:8080/"
        },
        "id": "zeheO40oUoDa",
        "outputId": "68f1f197-cf01-4936-877c-46add4e307ab"
      },
      "execution_count": 11,
      "outputs": [
        {
          "output_type": "execute_result",
          "data": {
            "text/plain": [
              "tensor([[1, 1, 1, 1, 1, 0, 0, 0, 0, 0, 0, 0, 0, 0, 0, 0, 0, 0, 0, 0, 0, 0, 0, 0,\n",
              "         0, 0, 0, 0, 0, 0, 0, 0, 0, 0, 0, 0, 0, 0, 0, 0, 0, 0, 0, 0, 0, 0, 0, 0,\n",
              "         0, 0, 0, 0, 0, 0, 0, 0, 0, 0, 0, 0, 0, 0, 0, 0, 0, 0, 0, 0, 0, 0, 0, 0,\n",
              "         0, 0, 0, 0, 0, 0, 0, 0, 0, 0, 0, 0, 0, 0, 0, 0, 0, 0, 0, 0, 0, 0, 0, 0,\n",
              "         0, 0, 0, 0, 0, 0, 0, 0, 0, 0, 0, 0, 0, 0, 0, 0, 0, 0, 0, 0, 0, 0, 0, 0,\n",
              "         0, 0, 0, 0, 0, 0, 0, 0]])"
            ]
          },
          "metadata": {},
          "execution_count": 11
        }
      ]
    },
    {
      "cell_type": "code",
      "source": [
        "mask[0][0].shape"
      ],
      "metadata": {
        "colab": {
          "base_uri": "https://localhost:8080/"
        },
        "id": "4rWRYZaqUsDp",
        "outputId": "3beea96f-e476-40c0-a391-ddd8889182ae"
      },
      "execution_count": 12,
      "outputs": [
        {
          "output_type": "execute_result",
          "data": {
            "text/plain": [
              "torch.Size([768])"
            ]
          },
          "metadata": {},
          "execution_count": 12
        }
      ]
    },
    {
      "cell_type": "code",
      "source": [
        "#Each vector below represents a single token attention mask - each token now has a vector of size 768 representing it's attention_mask status."
      ],
      "metadata": {
        "id": "RaWbj2uVU6Fa"
      },
      "execution_count": null,
      "outputs": []
    },
    {
      "cell_type": "code",
      "source": [
        "mask"
      ],
      "metadata": {
        "colab": {
          "base_uri": "https://localhost:8080/"
        },
        "id": "O2VulYYxUzAt",
        "outputId": "6e2ee20a-20ed-4d07-be8d-b8eeab9bfee6"
      },
      "execution_count": 13,
      "outputs": [
        {
          "output_type": "execute_result",
          "data": {
            "text/plain": [
              "tensor([[[1., 1., 1.,  ..., 1., 1., 1.],\n",
              "         [1., 1., 1.,  ..., 1., 1., 1.],\n",
              "         [1., 1., 1.,  ..., 1., 1., 1.],\n",
              "         ...,\n",
              "         [0., 0., 0.,  ..., 0., 0., 0.],\n",
              "         [0., 0., 0.,  ..., 0., 0., 0.],\n",
              "         [0., 0., 0.,  ..., 0., 0., 0.]]])"
            ]
          },
          "metadata": {},
          "execution_count": 13
        }
      ]
    },
    {
      "cell_type": "code",
      "source": [
        "#applying the attention mask by multiplying 2 tensors \n",
        "masked_embeddings = embeddings * mask\n",
        "masked_embeddings.shape"
      ],
      "metadata": {
        "colab": {
          "base_uri": "https://localhost:8080/"
        },
        "id": "JqI0TI3gVCzm",
        "outputId": "0ed508be-9b3c-4590-91f9-c3ab83791f8f"
      },
      "execution_count": 14,
      "outputs": [
        {
          "output_type": "execute_result",
          "data": {
            "text/plain": [
              "torch.Size([1, 128, 768])"
            ]
          },
          "metadata": {},
          "execution_count": 14
        }
      ]
    },
    {
      "cell_type": "code",
      "source": [
        "masked_embeddings"
      ],
      "metadata": {
        "colab": {
          "base_uri": "https://localhost:8080/"
        },
        "id": "2KR3AhavVqVI",
        "outputId": "c2cdf4ac-0b5e-4202-ef70-c34463089099"
      },
      "execution_count": 15,
      "outputs": [
        {
          "output_type": "execute_result",
          "data": {
            "text/plain": [
              "tensor([[[-1.5872,  0.4290, -0.6303,  ..., -0.2767,  0.7593,  0.5782],\n",
              "         [-1.5122,  0.8271, -0.3605,  ...,  0.0248,  0.9586,  0.2221],\n",
              "         [-1.1622,  0.1706, -0.2628,  ..., -0.0566,  0.6829,  0.3858],\n",
              "         ...,\n",
              "         [-0.0000,  0.0000, -0.0000,  ...,  0.0000,  0.0000,  0.0000],\n",
              "         [-0.0000,  0.0000, -0.0000,  ...,  0.0000,  0.0000,  0.0000],\n",
              "         [-0.0000,  0.0000, -0.0000,  ...,  0.0000,  0.0000,  0.0000]]],\n",
              "       grad_fn=<MulBackward0>)"
            ]
          },
          "metadata": {},
          "execution_count": 15
        }
      ]
    },
    {
      "cell_type": "code",
      "source": [
        "summed = torch.sum(masked_embeddings, 1)\n",
        "summed.shape"
      ],
      "metadata": {
        "colab": {
          "base_uri": "https://localhost:8080/"
        },
        "id": "pRORTyOIVust",
        "outputId": "a51d3f27-d0ae-4c5c-f806-f1b030227b2d"
      },
      "execution_count": 16,
      "outputs": [
        {
          "output_type": "execute_result",
          "data": {
            "text/plain": [
              "torch.Size([1, 768])"
            ]
          },
          "metadata": {},
          "execution_count": 16
        }
      ]
    },
    {
      "cell_type": "code",
      "source": [
        "summed = torch.sum(masked_embeddings, 1)\n",
        "summed.shape"
      ],
      "metadata": {
        "colab": {
          "base_uri": "https://localhost:8080/"
        },
        "id": "pFN2PQWcV2u5",
        "outputId": "bc6f54c2-4b5d-48f4-b593-20c1b28ff664"
      },
      "execution_count": 17,
      "outputs": [
        {
          "output_type": "execute_result",
          "data": {
            "text/plain": [
              "torch.Size([1, 768])"
            ]
          },
          "metadata": {},
          "execution_count": 17
        }
      ]
    },
    {
      "cell_type": "code",
      "source": [
        "summed_mask = torch.clamp(mask.sum(1), min=1e-9)\n",
        "summed_mask.shape"
      ],
      "metadata": {
        "colab": {
          "base_uri": "https://localhost:8080/"
        },
        "id": "slzqVshpV_i3",
        "outputId": "5d1accc6-a0ec-4bc7-c1de-d0693e0e9599"
      },
      "execution_count": 19,
      "outputs": [
        {
          "output_type": "execute_result",
          "data": {
            "text/plain": [
              "torch.Size([1, 768])"
            ]
          },
          "metadata": {},
          "execution_count": 19
        }
      ]
    },
    {
      "cell_type": "code",
      "source": [
        "summed_mask"
      ],
      "metadata": {
        "colab": {
          "base_uri": "https://localhost:8080/"
        },
        "id": "De38NWJOV55t",
        "outputId": "1cc563a9-23a7-444e-cdad-d91ebca21900"
      },
      "execution_count": 20,
      "outputs": [
        {
          "output_type": "execute_result",
          "data": {
            "text/plain": [
              "tensor([[5., 5., 5., 5., 5., 5., 5., 5., 5., 5., 5., 5., 5., 5., 5., 5., 5., 5.,\n",
              "         5., 5., 5., 5., 5., 5., 5., 5., 5., 5., 5., 5., 5., 5., 5., 5., 5., 5.,\n",
              "         5., 5., 5., 5., 5., 5., 5., 5., 5., 5., 5., 5., 5., 5., 5., 5., 5., 5.,\n",
              "         5., 5., 5., 5., 5., 5., 5., 5., 5., 5., 5., 5., 5., 5., 5., 5., 5., 5.,\n",
              "         5., 5., 5., 5., 5., 5., 5., 5., 5., 5., 5., 5., 5., 5., 5., 5., 5., 5.,\n",
              "         5., 5., 5., 5., 5., 5., 5., 5., 5., 5., 5., 5., 5., 5., 5., 5., 5., 5.,\n",
              "         5., 5., 5., 5., 5., 5., 5., 5., 5., 5., 5., 5., 5., 5., 5., 5., 5., 5.,\n",
              "         5., 5., 5., 5., 5., 5., 5., 5., 5., 5., 5., 5., 5., 5., 5., 5., 5., 5.,\n",
              "         5., 5., 5., 5., 5., 5., 5., 5., 5., 5., 5., 5., 5., 5., 5., 5., 5., 5.,\n",
              "         5., 5., 5., 5., 5., 5., 5., 5., 5., 5., 5., 5., 5., 5., 5., 5., 5., 5.,\n",
              "         5., 5., 5., 5., 5., 5., 5., 5., 5., 5., 5., 5., 5., 5., 5., 5., 5., 5.,\n",
              "         5., 5., 5., 5., 5., 5., 5., 5., 5., 5., 5., 5., 5., 5., 5., 5., 5., 5.,\n",
              "         5., 5., 5., 5., 5., 5., 5., 5., 5., 5., 5., 5., 5., 5., 5., 5., 5., 5.,\n",
              "         5., 5., 5., 5., 5., 5., 5., 5., 5., 5., 5., 5., 5., 5., 5., 5., 5., 5.,\n",
              "         5., 5., 5., 5., 5., 5., 5., 5., 5., 5., 5., 5., 5., 5., 5., 5., 5., 5.,\n",
              "         5., 5., 5., 5., 5., 5., 5., 5., 5., 5., 5., 5., 5., 5., 5., 5., 5., 5.,\n",
              "         5., 5., 5., 5., 5., 5., 5., 5., 5., 5., 5., 5., 5., 5., 5., 5., 5., 5.,\n",
              "         5., 5., 5., 5., 5., 5., 5., 5., 5., 5., 5., 5., 5., 5., 5., 5., 5., 5.,\n",
              "         5., 5., 5., 5., 5., 5., 5., 5., 5., 5., 5., 5., 5., 5., 5., 5., 5., 5.,\n",
              "         5., 5., 5., 5., 5., 5., 5., 5., 5., 5., 5., 5., 5., 5., 5., 5., 5., 5.,\n",
              "         5., 5., 5., 5., 5., 5., 5., 5., 5., 5., 5., 5., 5., 5., 5., 5., 5., 5.,\n",
              "         5., 5., 5., 5., 5., 5., 5., 5., 5., 5., 5., 5., 5., 5., 5., 5., 5., 5.,\n",
              "         5., 5., 5., 5., 5., 5., 5., 5., 5., 5., 5., 5., 5., 5., 5., 5., 5., 5.,\n",
              "         5., 5., 5., 5., 5., 5., 5., 5., 5., 5., 5., 5., 5., 5., 5., 5., 5., 5.,\n",
              "         5., 5., 5., 5., 5., 5., 5., 5., 5., 5., 5., 5., 5., 5., 5., 5., 5., 5.,\n",
              "         5., 5., 5., 5., 5., 5., 5., 5., 5., 5., 5., 5., 5., 5., 5., 5., 5., 5.,\n",
              "         5., 5., 5., 5., 5., 5., 5., 5., 5., 5., 5., 5., 5., 5., 5., 5., 5., 5.,\n",
              "         5., 5., 5., 5., 5., 5., 5., 5., 5., 5., 5., 5., 5., 5., 5., 5., 5., 5.,\n",
              "         5., 5., 5., 5., 5., 5., 5., 5., 5., 5., 5., 5., 5., 5., 5., 5., 5., 5.,\n",
              "         5., 5., 5., 5., 5., 5., 5., 5., 5., 5., 5., 5., 5., 5., 5., 5., 5., 5.,\n",
              "         5., 5., 5., 5., 5., 5., 5., 5., 5., 5., 5., 5., 5., 5., 5., 5., 5., 5.,\n",
              "         5., 5., 5., 5., 5., 5., 5., 5., 5., 5., 5., 5., 5., 5., 5., 5., 5., 5.,\n",
              "         5., 5., 5., 5., 5., 5., 5., 5., 5., 5., 5., 5., 5., 5., 5., 5., 5., 5.,\n",
              "         5., 5., 5., 5., 5., 5., 5., 5., 5., 5., 5., 5., 5., 5., 5., 5., 5., 5.,\n",
              "         5., 5., 5., 5., 5., 5., 5., 5., 5., 5., 5., 5., 5., 5., 5., 5., 5., 5.,\n",
              "         5., 5., 5., 5., 5., 5., 5., 5., 5., 5., 5., 5., 5., 5., 5., 5., 5., 5.,\n",
              "         5., 5., 5., 5., 5., 5., 5., 5., 5., 5., 5., 5., 5., 5., 5., 5., 5., 5.,\n",
              "         5., 5., 5., 5., 5., 5., 5., 5., 5., 5., 5., 5., 5., 5., 5., 5., 5., 5.,\n",
              "         5., 5., 5., 5., 5., 5., 5., 5., 5., 5., 5., 5., 5., 5., 5., 5., 5., 5.,\n",
              "         5., 5., 5., 5., 5., 5., 5., 5., 5., 5., 5., 5., 5., 5., 5., 5., 5., 5.,\n",
              "         5., 5., 5., 5., 5., 5., 5., 5., 5., 5., 5., 5., 5., 5., 5., 5., 5., 5.,\n",
              "         5., 5., 5., 5., 5., 5., 5., 5., 5., 5., 5., 5., 5., 5., 5., 5., 5., 5.,\n",
              "         5., 5., 5., 5., 5., 5., 5., 5., 5., 5., 5., 5.]])"
            ]
          },
          "metadata": {},
          "execution_count": 20
        }
      ]
    },
    {
      "cell_type": "code",
      "source": [
        "mean_pooled = summed / summed_mask"
      ],
      "metadata": {
        "id": "ZHMtlX3RWX8W"
      },
      "execution_count": 22,
      "outputs": []
    },
    {
      "cell_type": "code",
      "source": [
        "mean_pooled"
      ],
      "metadata": {
        "colab": {
          "base_uri": "https://localhost:8080/"
        },
        "id": "7A_W6S01WeEx",
        "outputId": "6cf9b737-6c1d-4d72-b851-04637322c8df"
      },
      "execution_count": 23,
      "outputs": [
        {
          "output_type": "execute_result",
          "data": {
            "text/plain": [
              "tensor([[-1.3574e+00,  4.0033e-01, -5.0986e-01, -9.4546e-01, -8.4032e-01,\n",
              "          2.3364e-01,  3.3641e-01,  1.2409e+00, -4.5858e-01, -1.8770e-01,\n",
              "         -2.2717e-01,  3.3995e-01, -5.5674e-01,  5.0741e-01, -3.4537e-01,\n",
              "          1.6458e-02, -1.0587e+00,  3.2711e-01, -9.2551e-01,  2.2697e-01,\n",
              "         -2.1575e-02, -8.4158e-01,  1.0492e-01, -3.9943e-01, -2.3523e-01,\n",
              "         -1.9869e-01,  5.6704e-01,  6.6077e-01, -4.9127e-01, -3.1601e-01,\n",
              "         -5.8040e-01, -8.3447e-03,  8.8351e-01,  5.7043e-01, -8.6027e-01,\n",
              "          4.9987e-01, -1.8409e+00, -3.2400e-01, -6.1466e-01,  5.2581e-01,\n",
              "          6.1306e-01, -4.6464e-01,  2.4222e-01, -7.2605e-01, -7.0671e-01,\n",
              "          1.1250e-01, -1.0787e+00,  4.0922e-01, -8.1751e-01, -1.0727e-01,\n",
              "         -1.0153e-02,  4.9474e-01,  4.1710e-01, -1.3323e-01, -3.3978e-01,\n",
              "         -1.2359e-01, -1.3152e+00,  5.8368e-01,  2.8340e-01, -5.1474e-01,\n",
              "         -8.6234e-01, -8.5961e-01,  6.1817e-01,  4.8220e-01,  1.2305e-02,\n",
              "         -3.4793e-02,  6.6903e-01,  6.4158e-01,  1.1450e+00, -3.1444e-01,\n",
              "          5.9970e-01, -4.9101e-01,  8.0038e-01, -1.1692e+00, -2.9118e-01,\n",
              "         -8.6916e-01, -2.3457e-01,  9.7694e-01, -4.9139e-01,  1.1734e-01,\n",
              "         -2.7727e-01, -7.7035e-01,  1.0153e-01,  2.5017e-01, -3.1663e-01,\n",
              "         -8.5286e-01, -1.4315e-02,  2.2119e-01, -4.0078e-01,  3.1829e-01,\n",
              "          3.5934e-01,  1.1022e-01, -2.7551e-01,  7.2681e-01,  1.3153e+00,\n",
              "         -3.2206e-01, -6.7636e-01, -8.1537e-01, -2.4205e-01,  8.8543e-02,\n",
              "         -2.4153e-01, -3.1775e-01,  6.9820e-01, -3.9121e-01,  3.4944e-01,\n",
              "         -9.8365e-02,  9.9773e-01, -9.2629e-01, -5.3080e-01,  1.8242e-01,\n",
              "          6.6593e-01, -4.1648e-01, -1.3135e-01,  6.0830e-01, -2.4854e-01,\n",
              "          8.3446e-01,  2.5955e-01, -4.8575e-01, -8.4360e-01,  2.4368e-01,\n",
              "          6.6466e-01,  2.9567e-02, -7.9383e-01,  7.6219e-01,  1.9548e-01,\n",
              "          5.2472e-01,  4.4609e-01,  2.2332e-01,  1.9063e+00,  2.7198e-01,\n",
              "          8.4412e-01, -2.6593e-01, -3.5524e-01,  4.2140e-03,  4.4451e-01,\n",
              "          8.9263e-01,  1.8059e-01,  3.7681e-01, -8.9184e-01, -1.2274e+00,\n",
              "          8.4857e-01,  7.8087e-01, -3.4953e-01, -8.7539e-01,  1.0925e+00,\n",
              "          1.1296e-01, -7.5398e-02,  5.7635e-01, -5.7563e-01, -8.5099e-01,\n",
              "         -1.0234e+00, -4.9162e-02, -1.0054e+00, -1.5860e-01, -6.9459e-01,\n",
              "         -5.3049e-01, -1.3001e+00,  1.6017e-01, -5.2563e-01,  7.8101e-01,\n",
              "          2.5878e-01,  1.8526e-01,  5.4487e-01, -2.7682e-01, -1.6444e+00,\n",
              "          6.3834e-01,  6.0593e-01,  5.8193e-01,  1.9004e-01, -1.2136e-01,\n",
              "          8.7240e-01,  9.7183e-02, -2.3881e-01,  1.0748e+00, -6.7414e-01,\n",
              "         -8.1796e-02,  6.1570e-01, -8.5262e-01, -3.5619e-01, -5.7519e-01,\n",
              "          8.9199e-02, -4.4377e-01, -4.8311e-01, -2.3867e-03,  5.8248e-01,\n",
              "         -3.6997e-01, -1.7302e-01, -1.2602e+00, -2.9271e-01,  4.6679e-02,\n",
              "          1.1196e-01,  9.8365e-01,  9.1649e-01,  2.5845e-01,  4.6089e-01,\n",
              "          9.6056e-01,  5.5225e-01, -3.9890e-01,  8.6063e-01,  2.8633e-01,\n",
              "          1.6619e-01,  1.6388e+00,  8.0898e-01, -1.6564e-02,  4.4486e-01,\n",
              "         -4.9634e-01,  2.1950e-02, -1.5471e-01, -2.1597e-01, -1.8789e-01,\n",
              "         -4.4763e-01,  9.3299e-02, -7.0505e-01, -7.7144e-01,  2.8669e-02,\n",
              "          7.5894e-01, -1.5202e-01, -2.6263e-02, -6.6347e-01, -3.6507e-01,\n",
              "          1.7058e-01, -8.0180e-02,  4.3026e-01, -7.3871e-01, -5.4893e-04,\n",
              "          1.8269e-01,  1.4168e+00,  5.7103e-01,  4.7906e-01, -2.2217e-01,\n",
              "         -4.5975e-01,  4.8345e-03, -2.1627e-01,  3.7405e-03, -2.6752e-01,\n",
              "          4.1631e-01,  1.0697e+00, -3.8584e-01,  2.3817e-01, -6.5618e-01,\n",
              "         -2.6143e-01, -3.1155e-01, -1.7424e-01, -1.1853e-01, -6.3570e-01,\n",
              "         -5.6493e-01, -3.8193e-02,  3.6869e-01,  7.2229e-01,  6.8269e-03,\n",
              "         -9.2234e-01,  3.5622e-02,  5.2548e-01,  7.2877e-01,  1.0947e+00,\n",
              "         -6.3544e-02, -7.7568e-01, -4.2189e-01,  1.9863e-01,  4.5278e-01,\n",
              "         -2.5876e-01, -4.0784e-01, -3.4669e-01,  4.8522e-01, -4.2669e-01,\n",
              "         -6.1127e-01,  5.4604e-01,  6.1366e-01,  1.9007e-02,  1.1321e-01,\n",
              "         -6.9756e-01,  9.0472e-01,  3.4707e-01, -1.3293e-02,  1.6575e+00,\n",
              "          6.8366e-01, -4.7486e-01,  8.7626e-01, -9.9379e-01, -5.6396e-01,\n",
              "         -7.9051e-01, -3.2793e-01, -7.4974e-01,  5.0780e-01,  2.3084e-02,\n",
              "          3.6542e-01, -1.1438e+00, -8.9311e-01,  2.6143e-01,  6.3945e-01,\n",
              "         -8.8646e-01, -1.7093e-01, -1.0224e+00, -2.5306e-01,  2.7564e-01,\n",
              "         -2.7527e-01,  4.8772e-01, -1.0332e-01, -7.3466e-01,  6.9663e-01,\n",
              "          2.4085e-01,  1.8780e-01, -6.5755e-01, -3.3499e-01, -4.4157e-01,\n",
              "          3.8327e-02, -5.4449e-02, -2.5038e-01, -8.3200e-03,  4.1366e-01,\n",
              "          5.9507e-01,  2.5808e-01, -7.5477e-01, -8.1019e-02,  2.8628e-01,\n",
              "          1.0539e+00,  6.4482e-01,  2.1030e-01,  1.7058e-01,  9.0252e-03,\n",
              "         -4.4512e-01,  1.0306e+00,  4.5283e-01, -1.2307e+00, -6.4834e-01,\n",
              "         -3.8915e-01, -6.5868e-01, -5.0916e-01, -3.8325e-01,  2.1887e-01,\n",
              "          4.1540e-01, -2.9389e-01, -2.5797e-01, -2.0342e-01,  1.5984e+00,\n",
              "         -4.9564e-01, -1.0451e+00,  4.2768e-01, -5.6029e-01, -7.1323e-01,\n",
              "         -1.0169e+00, -4.6055e-01,  2.6491e-01, -3.4381e-01,  5.7160e-01,\n",
              "         -1.4305e+00,  3.0695e-01, -7.7363e-01,  1.0122e-01, -6.3906e-01,\n",
              "          9.5743e-01,  2.1439e-01, -1.2096e+00,  1.6156e-01, -5.2006e-01,\n",
              "          3.1214e-01,  4.5838e-01,  2.6776e-01, -5.6346e-01,  8.8836e-01,\n",
              "          6.4360e-01,  3.3533e-01, -3.5307e-02, -3.7739e-01,  1.6715e-01,\n",
              "          6.1768e-01, -4.4677e-01, -5.3925e-01,  8.9606e-01,  7.4660e-01,\n",
              "         -4.7714e-01,  3.0410e-01,  3.0040e-01, -4.6326e-02, -5.9681e-01,\n",
              "          4.8588e-01, -4.9527e-01,  5.2288e-02, -2.1945e-01, -8.8638e-01,\n",
              "          1.2974e-01, -7.7799e-01, -6.9756e-01, -7.0998e-01, -3.3071e-01,\n",
              "          1.5210e-01,  2.7656e-01, -9.8451e-01,  8.9006e-01, -3.9205e-01,\n",
              "          1.3549e-01,  3.4685e-01,  6.5274e-01,  6.9614e-02,  3.6483e-01,\n",
              "          5.7701e-01,  2.7496e-01,  8.7244e-01,  4.2010e-01, -2.7136e-01,\n",
              "          2.6299e-01,  1.2684e+00,  2.0715e-01, -1.5413e+00,  1.2198e-01,\n",
              "          6.6548e-01,  4.7319e-03, -4.3938e-01,  3.2177e-01,  2.1996e-01,\n",
              "         -3.3385e-01,  3.4531e-01,  7.3032e-02, -1.2632e-01, -3.3172e-01,\n",
              "         -6.6058e-01,  2.5096e-01,  2.6806e-01,  1.0516e+00, -6.0096e-01,\n",
              "         -1.0529e+00,  8.1155e-01,  2.1766e-01,  5.1268e-01,  4.3013e-01,\n",
              "          6.0102e-01, -1.7996e-01,  4.0372e-01,  6.1155e-01, -3.0916e-01,\n",
              "          7.7382e-01,  2.7808e-01,  5.4201e-01,  4.6810e-01, -8.0052e-01,\n",
              "          5.3279e-02,  8.5245e-02, -2.5697e-01, -4.0843e-01, -1.3860e-01,\n",
              "          9.4310e-01, -8.8484e-01,  1.1564e+00,  2.4042e-01,  9.9390e-02,\n",
              "          2.3542e-01, -1.1516e-01,  1.9587e-02, -3.1655e-01, -1.6566e-03,\n",
              "          6.3153e-01,  2.7587e-02, -6.1949e-01, -3.5808e-01, -5.8451e-01,\n",
              "         -2.8890e-02, -2.4208e-01, -8.2141e-01,  3.4513e-01,  1.2755e-02,\n",
              "          7.4254e-01, -3.2196e-02, -4.5926e-01, -6.1044e-01, -5.0162e-01,\n",
              "         -1.5880e+00,  3.4468e-01,  3.4330e-01,  5.4724e-01,  6.3485e-01,\n",
              "         -5.0813e-01,  3.5205e-01,  5.9278e-01,  1.4988e-01,  7.7185e-01,\n",
              "          4.1063e-01, -1.1528e+00, -1.3295e+00,  7.0091e-01,  4.4285e-01,\n",
              "         -2.9587e-01, -1.7233e-01,  2.7034e-01,  1.5441e-01,  9.4630e-01,\n",
              "         -4.7948e-01,  1.2802e+00, -8.9973e-01,  8.7995e-01, -9.2176e-01,\n",
              "         -2.3167e-01,  1.3916e-01,  1.3674e-01, -1.1521e+00,  3.4979e-02,\n",
              "          4.2016e-02,  6.5543e-01, -7.1810e-01, -6.4925e-01,  2.0081e-01,\n",
              "          4.3714e-02, -7.7458e-01, -4.0680e-01,  1.1277e-01, -3.6458e-01,\n",
              "          5.0339e-01, -1.8563e-01,  4.4517e-01, -8.9318e-01, -2.1430e-01,\n",
              "          6.0193e-01,  1.6244e-01, -1.6717e-01, -1.0775e-01,  9.8254e-02,\n",
              "         -6.3838e-01,  4.1777e-01,  7.8821e-01,  1.7172e-01, -1.1231e-01,\n",
              "          2.9916e-01, -2.6260e-01, -6.7640e-01,  2.5872e-01, -1.9483e-01,\n",
              "          4.4953e-01,  3.0690e-01, -2.1417e-01, -6.1594e-01, -7.3821e-02,\n",
              "          1.2354e+00, -2.4700e-02, -4.6220e-01, -1.9906e+00,  2.8358e-01,\n",
              "         -6.5482e-01, -3.7522e-01, -1.1391e+00,  1.7072e-02,  6.1511e-01,\n",
              "         -4.4534e-02, -2.5452e-01, -8.0288e-01,  3.4227e-01,  1.6681e-01,\n",
              "          8.8042e-01, -4.5429e-03,  4.2154e-01,  1.0236e-01, -4.9625e-01,\n",
              "          5.3396e-02, -2.5137e-02, -2.0893e-01,  5.3411e-02, -1.5828e-01,\n",
              "          5.2315e-01, -1.0311e+00, -3.8257e-01,  5.5647e-02,  6.2916e-01,\n",
              "          1.1601e-01,  2.2970e-01, -3.5158e-01, -9.9797e-01,  1.3965e-01,\n",
              "         -6.9405e-01, -6.0507e-01, -3.7285e-01, -1.9208e-01,  1.1762e+00,\n",
              "         -6.0448e-01, -8.3768e-01,  3.7923e-01,  3.3067e-01, -4.5947e-01,\n",
              "          8.3377e-02,  3.5686e-01, -1.6479e-01, -8.2557e-02, -4.0615e-01,\n",
              "         -5.7144e-01, -6.8098e-01, -5.0963e-02,  2.2664e-02, -7.7477e-02,\n",
              "          3.0431e-01,  2.9625e-01, -8.6171e-01,  3.1291e-01,  4.7621e-01,\n",
              "         -1.5476e-01,  6.6227e-01,  3.1837e-01, -7.3141e-02, -7.9379e-01,\n",
              "         -3.0020e-01,  6.0024e-01,  1.6114e-01, -8.4671e-02, -4.6673e-01,\n",
              "         -1.1805e+00, -6.0347e-02, -5.0881e-01,  3.9872e-01, -8.9462e-01,\n",
              "          4.3777e-01, -6.2266e-01,  6.2011e-02,  8.3578e-01, -5.2543e-01,\n",
              "          1.0529e-01, -3.2147e-01,  4.3962e-01,  1.5263e+00,  1.7021e-01,\n",
              "          2.8882e-02, -2.2366e-01,  3.8642e-01, -8.0868e-02,  1.2592e-03,\n",
              "         -7.3780e-01, -4.6758e-01,  5.4888e-01,  1.4495e-01,  1.8496e-01,\n",
              "         -1.0734e+00, -9.7652e-02, -1.3205e-01, -4.5302e-01, -9.1553e-03,\n",
              "          7.6028e-02,  4.8443e-01, -7.0004e-01, -4.5591e-01, -2.0388e-01,\n",
              "         -1.5635e+00,  4.3359e-01, -3.9975e-01, -1.2802e-01, -3.1255e-01,\n",
              "          5.9171e-01, -3.0652e-01,  9.6551e-02, -1.2845e+00, -1.0335e-01,\n",
              "         -1.0848e+00, -2.1754e-02,  2.7405e-01, -4.6128e-01,  1.2595e-01,\n",
              "          5.7545e-02, -1.1400e+00,  1.0142e+00,  6.7391e-01, -8.6397e-02,\n",
              "          7.6809e-01,  3.7985e-01, -1.0620e+00,  7.9851e-01, -3.6196e-02,\n",
              "         -4.7874e-01, -1.5695e-01, -2.2208e-01, -1.1057e-01,  6.7315e-02,\n",
              "         -9.5047e-02,  1.8945e-01, -6.4742e-01,  2.9414e-01, -5.8554e-01,\n",
              "          2.3746e-02,  3.5297e-01,  1.2358e+00, -4.4818e-01,  3.7515e-01,\n",
              "          4.6550e-01,  5.7511e-01, -1.1047e-01, -4.0714e-01, -4.6965e-01,\n",
              "         -6.4952e-02,  4.5032e-01,  5.4928e-02,  8.3240e-01,  4.2476e-02,\n",
              "          1.7547e-02,  1.8850e-01, -7.5086e-02, -2.6165e-01, -2.8952e-01,\n",
              "          1.2889e+00,  3.0621e-01, -3.6019e-01,  3.9672e-01, -5.8085e-01,\n",
              "         -5.1667e-02, -7.8908e-01,  1.4316e+00,  5.7390e-02, -4.3299e-01,\n",
              "          1.8475e-01,  5.0526e-01, -3.0329e-01,  4.1365e-01,  3.8384e-01,\n",
              "          5.0052e-02,  2.9822e-01, -5.6927e-01, -7.4146e-01,  1.2386e+00,\n",
              "          2.4466e-01,  1.9253e-01,  6.3252e-01,  4.7269e-02, -9.3788e-02,\n",
              "          1.2420e-01, -4.4681e-02, -8.9288e-01,  2.8866e-01, -2.4437e-01,\n",
              "          8.6121e-01,  6.9539e-02,  4.1031e-01, -8.3111e-01, -4.2966e-01,\n",
              "          3.2041e-01,  6.0808e-01,  6.5269e-02, -1.4466e-01, -2.9857e-01,\n",
              "         -2.9665e-02,  7.2966e-02,  7.1290e-02,  1.0297e+00,  2.7415e-01,\n",
              "         -4.0051e-01,  1.1238e+00, -6.9858e-01,  4.1288e-02,  1.0724e+00,\n",
              "         -2.3330e-01, -1.0433e+00,  7.8142e-03,  9.9239e-02, -2.5013e-01,\n",
              "         -3.0864e-01,  8.2730e-01, -3.1201e-01, -4.9388e-01,  3.9257e-01,\n",
              "          5.6232e-01, -4.4798e-01, -8.8126e-01, -8.5290e-01,  1.3493e-01,\n",
              "         -2.6078e-02,  4.5944e-01,  6.8909e-01, -7.5761e-01, -3.4128e-02,\n",
              "          2.3781e-02,  9.0505e-01, -3.1780e-01,  8.2094e-03,  2.3126e-01,\n",
              "         -1.3856e-01,  7.2021e-01,  3.8315e-01]], grad_fn=<DivBackward0>)"
            ]
          },
          "metadata": {},
          "execution_count": 23
        }
      ]
    }
  ]
}