{
  "nbformat": 4,
  "nbformat_minor": 0,
  "metadata": {
    "colab": {
      "provenance": []
    },
    "kernelspec": {
      "name": "python3",
      "display_name": "Python 3"
    },
    "language_info": {
      "name": "python"
    }
  },
  "cells": [
    {
      "cell_type": "code",
      "source": [
        "#installing missing library\n",
        "!pip install transformers \n",
        "!pip install -U sentence-transformers"
      ],
      "metadata": {
        "id": "kP3hgH7zyhjb"
      },
      "execution_count": null,
      "outputs": []
    },
    {
      "cell_type": "code",
      "source": [
        "from sentence_transformers import SentenceTransformer\n",
        "from sklearn.metrics.pairwise import cosine_similarity"
      ],
      "metadata": {
        "id": "n5XliKMlyekJ"
      },
      "execution_count": 7,
      "outputs": []
    },
    {
      "cell_type": "code",
      "execution_count": 8,
      "metadata": {
        "id": "2O_piUAlyEFJ"
      },
      "outputs": [],
      "source": [
        "sentences = [\n",
        "    \"Three years later, the coffin was still full of Jello.\",\n",
        "    \"The fish dreamed of escaping the fishbowl and into the toilet where he saw his friend go.\",\n",
        "    \"The person box was packed with jelly many dozens of months later.\",\n",
        "    \"Standing on one's head at job interviews forms a lasting impression.\",\n",
        "    \"It took him a month to finish the meal.\",\n",
        "    \"He found a leprechaun in his walnut shell.\"\n",
        "]"
      ]
    },
    {
      "cell_type": "code",
      "source": [
        "model = SentenceTransformer('bert-base-nli-mean-tokens')"
      ],
      "metadata": {
        "id": "og43MDeHyTre"
      },
      "execution_count": null,
      "outputs": []
    },
    {
      "cell_type": "code",
      "source": [
        "sentence_embeddings = model.encode(sentences)"
      ],
      "metadata": {
        "id": "wILA21ItyyZM"
      },
      "execution_count": 10,
      "outputs": []
    },
    {
      "cell_type": "code",
      "source": [
        "sentence_embeddings.shape"
      ],
      "metadata": {
        "colab": {
          "base_uri": "https://localhost:8080/"
        },
        "id": "844F-6lcy0jm",
        "outputId": "3f685387-baa4-4cd9-f874-95dcd4355845"
      },
      "execution_count": 11,
      "outputs": [
        {
          "output_type": "execute_result",
          "data": {
            "text/plain": [
              "(6, 768)"
            ]
          },
          "metadata": {},
          "execution_count": 11
        }
      ]
    },
    {
      "cell_type": "code",
      "source": [
        "sentence_embeddings"
      ],
      "metadata": {
        "colab": {
          "base_uri": "https://localhost:8080/"
        },
        "id": "i4u5n5FGy252",
        "outputId": "71c6803e-287b-45b0-9a62-6de24fbab976"
      },
      "execution_count": 12,
      "outputs": [
        {
          "output_type": "execute_result",
          "data": {
            "text/plain": [
              "array([[ 0.0744615 ,  0.86369663,  0.17946403, ...,  0.77344006,\n",
              "         1.7247488 , -0.18027496],\n",
              "       [-0.37146318,  0.9729013 ,  1.0839937 , ..., -0.25521293,\n",
              "        -0.27593735,  0.03575877],\n",
              "       [-0.50298226,  0.794986  , -0.12402522, ...,  0.14406362,\n",
              "         0.97037494, -0.17911562],\n",
              "       [-0.01324306,  0.9772857 ,  1.451594  , ..., -0.846165  ,\n",
              "        -1.4004318 , -0.41184372],\n",
              "       [-0.20192645,  0.05970357,  0.8602745 , ..., -0.01000803,\n",
              "         0.84306246, -0.0840771 ],\n",
              "       [-0.21311913,  1.0174934 , -0.8832755 , ...,  0.73710376,\n",
              "         0.19469155, -0.30111268]], dtype=float32)"
            ]
          },
          "metadata": {},
          "execution_count": 12
        }
      ]
    },
    {
      "cell_type": "code",
      "source": [
        "cosine_similarity(\n",
        "    [sentence_embeddings[0]],\n",
        "    sentence_embeddings[1:]\n",
        ")"
      ],
      "metadata": {
        "colab": {
          "base_uri": "https://localhost:8080/"
        },
        "id": "b766Rhg5y7pm",
        "outputId": "2bd556f8-a243-47f3-e3e5-a9f5ad1fd6b3"
      },
      "execution_count": 13,
      "outputs": [
        {
          "output_type": "execute_result",
          "data": {
            "text/plain": [
              "array([[0.33088914, 0.72192585, 0.17475507, 0.4470966 , 0.5548363 ]],\n",
              "      dtype=float32)"
            ]
          },
          "metadata": {},
          "execution_count": 13
        }
      ]
    }
  ]
}