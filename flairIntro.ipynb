{
  "nbformat": 4,
  "nbformat_minor": 0,
  "metadata": {
    "colab": {
      "name": "flairIntro.ipynb",
      "provenance": []
    },
    "kernelspec": {
      "name": "python3",
      "display_name": "Python 3"
    },
    "language_info": {
      "name": "python"
    }
  },
  "cells": [
    {
      "cell_type": "code",
      "source": [
        "!pip install flair"
      ],
      "metadata": {
        "id": "NlZZQOakzTRp"
      },
      "execution_count": null,
      "outputs": []
    },
    {
      "cell_type": "code",
      "source": [
        "'''\n",
        "Majour steps in this model :\n",
        "1 Initializing the model \n",
        "2 Iakenizing\n",
        "3 Processing \n",
        "4 Formatting the output\n",
        "'''"
      ],
      "metadata": {
        "id": "fvXeIGpD00pi"
      },
      "execution_count": null,
      "outputs": []
    },
    {
      "cell_type": "code",
      "source": [
        "import flair\n",
        "model = flair.models.TextClassifier.load('en-sentiment')"
      ],
      "metadata": {
        "id": "n2fn6Wf5zboQ"
      },
      "execution_count": null,
      "outputs": []
    },
    {
      "cell_type": "code",
      "source": [
        "text = input()\n",
        "sentence = flair.data.Sentence(text)"
      ],
      "metadata": {
        "colab": {
          "base_uri": "https://localhost:8080/"
        },
        "id": "HGmaUJUU1F4U",
        "outputId": "423a477b-b70d-4ae9-f173-0251d3e49df9"
      },
      "execution_count": 20,
      "outputs": [
        {
          "name": "stdout",
          "output_type": "stream",
          "text": [
            "my girlfriend\n"
          ]
        }
      ]
    },
    {
      "cell_type": "code",
      "source": [
        "model.predict(sentence)"
      ],
      "metadata": {
        "id": "Zd_jHIWn1rxV"
      },
      "execution_count": 21,
      "outputs": []
    },
    {
      "cell_type": "code",
      "source": [
        "print('System feel given sentence is',sentence.get_labels()[0].value,'with confidence of ', round(sentence.get_labels()[0].score*100),'%')"
      ],
      "metadata": {
        "colab": {
          "base_uri": "https://localhost:8080/"
        },
        "id": "0k0IWHCh137s",
        "outputId": "13590fdb-37ed-4826-c1c8-39b0fec7d530"
      },
      "execution_count": 22,
      "outputs": [
        {
          "output_type": "stream",
          "name": "stdout",
          "text": [
            "System feel given sentence is POSITIVE with confidence of  100 %\n"
          ]
        }
      ]
    }
  ]
}