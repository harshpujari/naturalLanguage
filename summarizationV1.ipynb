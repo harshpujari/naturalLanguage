{
  "nbformat": 4,
  "nbformat_minor": 0,
  "metadata": {
    "colab": {
      "name": "summarizationV1.ipynb",
      "provenance": []
    },
    "kernelspec": {
      "name": "python3",
      "display_name": "Python 3"
    },
    "language_info": {
      "name": "python"
    },
    "widgets": {
      "application/vnd.jupyter.widget-state+json": {
        "db6bc388191e46a78e27f20f6cb799eb": {
          "model_module": "@jupyter-widgets/controls",
          "model_name": "HBoxModel",
          "model_module_version": "1.5.0",
          "state": {
            "_dom_classes": [],
            "_model_module": "@jupyter-widgets/controls",
            "_model_module_version": "1.5.0",
            "_model_name": "HBoxModel",
            "_view_count": null,
            "_view_module": "@jupyter-widgets/controls",
            "_view_module_version": "1.5.0",
            "_view_name": "HBoxView",
            "box_style": "",
            "children": [
              "IPY_MODEL_3f16aaf4cca54b9ebfcc1453eca72304",
              "IPY_MODEL_39ababc7872a49b08c6b20bc1a8cd83e",
              "IPY_MODEL_4b6f553b9f2447f0b7b4d7727baed3da"
            ],
            "layout": "IPY_MODEL_2c8e295e88a24dbe9d1a1a615d8e2b4b"
          }
        },
        "3f16aaf4cca54b9ebfcc1453eca72304": {
          "model_module": "@jupyter-widgets/controls",
          "model_name": "HTMLModel",
          "model_module_version": "1.5.0",
          "state": {
            "_dom_classes": [],
            "_model_module": "@jupyter-widgets/controls",
            "_model_module_version": "1.5.0",
            "_model_name": "HTMLModel",
            "_view_count": null,
            "_view_module": "@jupyter-widgets/controls",
            "_view_module_version": "1.5.0",
            "_view_name": "HTMLView",
            "description": "",
            "description_tooltip": null,
            "layout": "IPY_MODEL_80d0b530ef7d47319d9a1d4de31bec5c",
            "placeholder": "​",
            "style": "IPY_MODEL_da7d37605781477eab6810cb2ee73c7f",
            "value": "Downloading pytorch_model.bin: 100%"
          }
        },
        "39ababc7872a49b08c6b20bc1a8cd83e": {
          "model_module": "@jupyter-widgets/controls",
          "model_name": "FloatProgressModel",
          "model_module_version": "1.5.0",
          "state": {
            "_dom_classes": [],
            "_model_module": "@jupyter-widgets/controls",
            "_model_module_version": "1.5.0",
            "_model_name": "FloatProgressModel",
            "_view_count": null,
            "_view_module": "@jupyter-widgets/controls",
            "_view_module_version": "1.5.0",
            "_view_name": "ProgressView",
            "bar_style": "success",
            "description": "",
            "description_tooltip": null,
            "layout": "IPY_MODEL_4c01f71b751e4921abf4be3bf21e9336",
            "max": 1625270765,
            "min": 0,
            "orientation": "horizontal",
            "style": "IPY_MODEL_748379e909474f9fb4339107ff6e9023",
            "value": 1625270765
          }
        },
        "4b6f553b9f2447f0b7b4d7727baed3da": {
          "model_module": "@jupyter-widgets/controls",
          "model_name": "HTMLModel",
          "model_module_version": "1.5.0",
          "state": {
            "_dom_classes": [],
            "_model_module": "@jupyter-widgets/controls",
            "_model_module_version": "1.5.0",
            "_model_name": "HTMLModel",
            "_view_count": null,
            "_view_module": "@jupyter-widgets/controls",
            "_view_module_version": "1.5.0",
            "_view_name": "HTMLView",
            "description": "",
            "description_tooltip": null,
            "layout": "IPY_MODEL_5bc3fb07c6b24afaafe52a1c25aff1a4",
            "placeholder": "​",
            "style": "IPY_MODEL_9ce264f166074378a3c7732a913fac00",
            "value": " 1.51G/1.51G [00:53&lt;00:00, 43.4MB/s]"
          }
        },
        "2c8e295e88a24dbe9d1a1a615d8e2b4b": {
          "model_module": "@jupyter-widgets/base",
          "model_name": "LayoutModel",
          "model_module_version": "1.2.0",
          "state": {
            "_model_module": "@jupyter-widgets/base",
            "_model_module_version": "1.2.0",
            "_model_name": "LayoutModel",
            "_view_count": null,
            "_view_module": "@jupyter-widgets/base",
            "_view_module_version": "1.2.0",
            "_view_name": "LayoutView",
            "align_content": null,
            "align_items": null,
            "align_self": null,
            "border": null,
            "bottom": null,
            "display": null,
            "flex": null,
            "flex_flow": null,
            "grid_area": null,
            "grid_auto_columns": null,
            "grid_auto_flow": null,
            "grid_auto_rows": null,
            "grid_column": null,
            "grid_gap": null,
            "grid_row": null,
            "grid_template_areas": null,
            "grid_template_columns": null,
            "grid_template_rows": null,
            "height": null,
            "justify_content": null,
            "justify_items": null,
            "left": null,
            "margin": null,
            "max_height": null,
            "max_width": null,
            "min_height": null,
            "min_width": null,
            "object_fit": null,
            "object_position": null,
            "order": null,
            "overflow": null,
            "overflow_x": null,
            "overflow_y": null,
            "padding": null,
            "right": null,
            "top": null,
            "visibility": null,
            "width": null
          }
        },
        "80d0b530ef7d47319d9a1d4de31bec5c": {
          "model_module": "@jupyter-widgets/base",
          "model_name": "LayoutModel",
          "model_module_version": "1.2.0",
          "state": {
            "_model_module": "@jupyter-widgets/base",
            "_model_module_version": "1.2.0",
            "_model_name": "LayoutModel",
            "_view_count": null,
            "_view_module": "@jupyter-widgets/base",
            "_view_module_version": "1.2.0",
            "_view_name": "LayoutView",
            "align_content": null,
            "align_items": null,
            "align_self": null,
            "border": null,
            "bottom": null,
            "display": null,
            "flex": null,
            "flex_flow": null,
            "grid_area": null,
            "grid_auto_columns": null,
            "grid_auto_flow": null,
            "grid_auto_rows": null,
            "grid_column": null,
            "grid_gap": null,
            "grid_row": null,
            "grid_template_areas": null,
            "grid_template_columns": null,
            "grid_template_rows": null,
            "height": null,
            "justify_content": null,
            "justify_items": null,
            "left": null,
            "margin": null,
            "max_height": null,
            "max_width": null,
            "min_height": null,
            "min_width": null,
            "object_fit": null,
            "object_position": null,
            "order": null,
            "overflow": null,
            "overflow_x": null,
            "overflow_y": null,
            "padding": null,
            "right": null,
            "top": null,
            "visibility": null,
            "width": null
          }
        },
        "da7d37605781477eab6810cb2ee73c7f": {
          "model_module": "@jupyter-widgets/controls",
          "model_name": "DescriptionStyleModel",
          "model_module_version": "1.5.0",
          "state": {
            "_model_module": "@jupyter-widgets/controls",
            "_model_module_version": "1.5.0",
            "_model_name": "DescriptionStyleModel",
            "_view_count": null,
            "_view_module": "@jupyter-widgets/base",
            "_view_module_version": "1.2.0",
            "_view_name": "StyleView",
            "description_width": ""
          }
        },
        "4c01f71b751e4921abf4be3bf21e9336": {
          "model_module": "@jupyter-widgets/base",
          "model_name": "LayoutModel",
          "model_module_version": "1.2.0",
          "state": {
            "_model_module": "@jupyter-widgets/base",
            "_model_module_version": "1.2.0",
            "_model_name": "LayoutModel",
            "_view_count": null,
            "_view_module": "@jupyter-widgets/base",
            "_view_module_version": "1.2.0",
            "_view_name": "LayoutView",
            "align_content": null,
            "align_items": null,
            "align_self": null,
            "border": null,
            "bottom": null,
            "display": null,
            "flex": null,
            "flex_flow": null,
            "grid_area": null,
            "grid_auto_columns": null,
            "grid_auto_flow": null,
            "grid_auto_rows": null,
            "grid_column": null,
            "grid_gap": null,
            "grid_row": null,
            "grid_template_areas": null,
            "grid_template_columns": null,
            "grid_template_rows": null,
            "height": null,
            "justify_content": null,
            "justify_items": null,
            "left": null,
            "margin": null,
            "max_height": null,
            "max_width": null,
            "min_height": null,
            "min_width": null,
            "object_fit": null,
            "object_position": null,
            "order": null,
            "overflow": null,
            "overflow_x": null,
            "overflow_y": null,
            "padding": null,
            "right": null,
            "top": null,
            "visibility": null,
            "width": null
          }
        },
        "748379e909474f9fb4339107ff6e9023": {
          "model_module": "@jupyter-widgets/controls",
          "model_name": "ProgressStyleModel",
          "model_module_version": "1.5.0",
          "state": {
            "_model_module": "@jupyter-widgets/controls",
            "_model_module_version": "1.5.0",
            "_model_name": "ProgressStyleModel",
            "_view_count": null,
            "_view_module": "@jupyter-widgets/base",
            "_view_module_version": "1.2.0",
            "_view_name": "StyleView",
            "bar_color": null,
            "description_width": ""
          }
        },
        "5bc3fb07c6b24afaafe52a1c25aff1a4": {
          "model_module": "@jupyter-widgets/base",
          "model_name": "LayoutModel",
          "model_module_version": "1.2.0",
          "state": {
            "_model_module": "@jupyter-widgets/base",
            "_model_module_version": "1.2.0",
            "_model_name": "LayoutModel",
            "_view_count": null,
            "_view_module": "@jupyter-widgets/base",
            "_view_module_version": "1.2.0",
            "_view_name": "LayoutView",
            "align_content": null,
            "align_items": null,
            "align_self": null,
            "border": null,
            "bottom": null,
            "display": null,
            "flex": null,
            "flex_flow": null,
            "grid_area": null,
            "grid_auto_columns": null,
            "grid_auto_flow": null,
            "grid_auto_rows": null,
            "grid_column": null,
            "grid_gap": null,
            "grid_row": null,
            "grid_template_areas": null,
            "grid_template_columns": null,
            "grid_template_rows": null,
            "height": null,
            "justify_content": null,
            "justify_items": null,
            "left": null,
            "margin": null,
            "max_height": null,
            "max_width": null,
            "min_height": null,
            "min_width": null,
            "object_fit": null,
            "object_position": null,
            "order": null,
            "overflow": null,
            "overflow_x": null,
            "overflow_y": null,
            "padding": null,
            "right": null,
            "top": null,
            "visibility": null,
            "width": null
          }
        },
        "9ce264f166074378a3c7732a913fac00": {
          "model_module": "@jupyter-widgets/controls",
          "model_name": "DescriptionStyleModel",
          "model_module_version": "1.5.0",
          "state": {
            "_model_module": "@jupyter-widgets/controls",
            "_model_module_version": "1.5.0",
            "_model_name": "DescriptionStyleModel",
            "_view_count": null,
            "_view_module": "@jupyter-widgets/base",
            "_view_module_version": "1.2.0",
            "_view_name": "StyleView",
            "description_width": ""
          }
        }
      }
    }
  },
  "cells": [
    {
      "cell_type": "code",
      "execution_count": null,
      "metadata": {
        "id": "u5k3u1K2pF4D"
      },
      "outputs": [],
      "source": [
        "!pip install transformers"
      ]
    },
    {
      "cell_type": "code",
      "source": [
        "from transformers import pipeline\n",
        "import tensorflow as tf\n",
        "from transformers import TFAutoModel"
      ],
      "metadata": {
        "id": "H0vceOsOpcMH"
      },
      "execution_count": 23,
      "outputs": []
    },
    {
      "cell_type": "code",
      "source": [
        "summarizer = pipeline(\"summarization\", model=\"facebook/bart-large-cnn\", tokenizer=\"t5-base\")"
      ],
      "metadata": {
        "colab": {
          "base_uri": "https://localhost:8080/",
          "height": 49,
          "referenced_widgets": [
            "db6bc388191e46a78e27f20f6cb799eb",
            "3f16aaf4cca54b9ebfcc1453eca72304",
            "39ababc7872a49b08c6b20bc1a8cd83e",
            "4b6f553b9f2447f0b7b4d7727baed3da",
            "2c8e295e88a24dbe9d1a1a615d8e2b4b",
            "80d0b530ef7d47319d9a1d4de31bec5c",
            "da7d37605781477eab6810cb2ee73c7f",
            "4c01f71b751e4921abf4be3bf21e9336",
            "748379e909474f9fb4339107ff6e9023",
            "5bc3fb07c6b24afaafe52a1c25aff1a4",
            "9ce264f166074378a3c7732a913fac00"
          ]
        },
        "id": "EJo91krCpjZu",
        "outputId": "afa7b111-6dfb-439e-8059-48e5a688c90f"
      },
      "execution_count": 29,
      "outputs": [
        {
          "output_type": "display_data",
          "data": {
            "text/plain": [
              "Downloading pytorch_model.bin:   0%|          | 0.00/1.51G [00:00<?, ?B/s]"
            ],
            "application/vnd.jupyter.widget-view+json": {
              "version_major": 2,
              "version_minor": 0,
              "model_id": "db6bc388191e46a78e27f20f6cb799eb"
            }
          },
          "metadata": {}
        }
      ]
    },
    {
      "cell_type": "code",
      "source": [
        "ARTICLE = '''NEW YORK | MUMBAI, September 1, 2016: Tata Consultancy Services (TCS), (BSE: 532540, NSE: TCS) a leading global IT services, consulting and business solutions organization, today announced that it has been recognized as a Leader in the IDC MarketScape, “Worldwide Oil and Gas Professional Services 2016 Vendor Assessment,” (Doc # US40842116, August 2016) report.\n",
        "\n",
        "TCS was recognized for demonstrating strong capability in the upstream and downstream segment, bringingtogether its engineering, oil and gas, and IT and digital competencies. The report highlights TCS’ commitment to R&D and innovation, custom development of oil and gas software products, data management, analytics of oilfield production operations and asset management for refinery and petrochemicals sites.\n",
        "\n",
        "The report evaluated leading IT professional service providers that serve the oil and gas industry. IDC MarketScape criteria of selection is based on a participants’ service capabilities, depth of solutions for oil and gas and geographic presence across multiple regions. The weightings represent well-researched IDC judgment about the market and vendors through structured discussions, surveys and interviews with market leaders, participant buyers and end users.\n",
        "\n",
        "“In the rapidly changing oil and gas business, IT modernization, big data and analytics, data management and platforms, modeling and simulation, virtual reality and real-time solutions are growing rapidly in demand to meet  emerging requirements,” said Chris Niven, Research Director, IDC Energy Insights. “TCS’ positioning as a Leader is indicative of the success that the firm has seen in the oil and gas space, across lines of business and geographies. TCS is a preferred partner for several major and large oil and gas companies and services vendors and has demonstrated its capability in the upstream and downstream segments.”\n",
        "\n",
        "“TCS is enabling oil and gas businesses to prosper in a challenging business environment through our industry expertise, engineering led digital re-imagination and focus on operational efficiencies,” said Debashis Ghosh, President – Energy &Resources, Life Sciences and Manufacturing, TCS. “This Leadership position in the IDC MarketScape is a testament to the success of our efforts.”\n",
        "\n",
        "About IDC MarketScape\n",
        "IDC MarketScape vendor analysis model is designed to provide an overview of the competitive fitness of ICT (information and communications technology) suppliers in a given market. The research methodology utilizes a rigorous scoring methodology based on both qualitative and quantitative criteria that results in a single graphical illustration of each vendor's position within a given market.  IDC MarketScape provides a clear framework in which the product and service offerings, capabilities and strategies, and current and future market success factors of IT and telecommunications vendors can be meaningfully compared.  The framework also provides technology buyers with a 360 degree assessment of the strengths and weaknesses of current and prospective vendors. \n",
        "\n",
        "About TCS’ Energy & Resources Business Unit\n",
        "TCS offers a comprehensive portfolio of services spanning consulting, infrastructure, engineering, asset management, and business process services. We help global Oil and Gas, Mining, Metals, and Construction businesses achieve greater efficiency by streamlining supply chains, optimizing asset utilization, improving customer care, and complying with regulations. Our offerings address critical business areas including oil field services, refining, mining operations, exploration and trading. Our solution frameworks leverage our expertise and best practices to help organizations achieve seamless integration of their operations, with superior decision systems, and reduced time and cost to market. Our offerings are backed by our domain-focused Centers of Excellence.\n",
        "\n",
        "About Tata Consultancy Services Ltd. (TCS)\n",
        "Tata Consultancy Services is an IT services, consulting and business solutions organization that delivers real results to global business, ensuring a level of certainty no other firm can match. TCS offers a consulting-led, integrated portfolio of IT, BPS, infrastructure, engineering and assurance services. This is delivered through its unique Global Network Delivery Model™, recognized as the benchmark of excellence in software development. A part of the Tata group, India’s largest industrial conglomerate, TCS has over 290,000 of the world’s best-trained consultants in 46 countries. The company generated consolidated revenues of US $11.6 billion for year ended March 31, 2013 and is listed on the National Stock Exchange and Bombay Stock Exchange in India. For more information, visit us at www.tcs.com.\n",
        "\n",
        "To stay up-to-date on TCS news and events in North America, follow @TCS_NA. \n",
        "For global updates, follow @TCS_News.'''"
      ],
      "metadata": {
        "id": "18csEpq6pxLb"
      },
      "execution_count": 14,
      "outputs": []
    },
    {
      "cell_type": "code",
      "source": [
        "len(ARTICLE)"
      ],
      "metadata": {
        "colab": {
          "base_uri": "https://localhost:8080/"
        },
        "id": "f9T937pBqqo-",
        "outputId": "984f3e53-43ab-4b3a-97f2-ca24ce3bfca0"
      },
      "execution_count": 15,
      "outputs": [
        {
          "output_type": "execute_result",
          "data": {
            "text/plain": [
              "4839"
            ]
          },
          "metadata": {},
          "execution_count": 15
        }
      ]
    },
    {
      "cell_type": "code",
      "source": [
        "summarizer(ARTICLE, max_length=100, min_length=50)"
      ],
      "metadata": {
        "colab": {
          "base_uri": "https://localhost:8080/"
        },
        "id": "3EURdEpxqDam",
        "outputId": "228d900f-5e41-4221-ad8b-df258e79866e"
      },
      "execution_count": 30,
      "outputs": [
        {
          "output_type": "stream",
          "name": "stderr",
          "text": [
            "Token indices sequence length is longer than the specified maximum sequence length for this model (995 > 512). Running this sequence through the model will result in indexing errors\n"
          ]
        },
        {
          "output_type": "execute_result",
          "data": {
            "text/plain": [
              "[{'summary_text': 'because 2016: Tata Consulancy Services (TCS), (BSE: 532540, NSE: TCSX IT services, consulting and business solutions organization that delivers real results to global business,ensuringX IT and digital competencies. The report highlights TCS’ commitment to R&D and innovation, custom development of oil and gas software products, data management, analytics of oilfield production operations and asset managementX'}]"
            ]
          },
          "metadata": {},
          "execution_count": 30
        }
      ]
    }
  ]
}