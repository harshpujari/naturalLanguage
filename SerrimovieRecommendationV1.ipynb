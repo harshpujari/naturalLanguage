{
  "nbformat": 4,
  "nbformat_minor": 0,
  "metadata": {
    "colab": {
      "name": "SerrimovieRecommendationV1.ipynb",
      "provenance": []
    },
    "kernelspec": {
      "name": "python3",
      "display_name": "Python 3"
    },
    "language_info": {
      "name": "python"
    }
  },
  "cells": [
    {
      "cell_type": "markdown",
      "source": [
        "Importing the required libraries."
      ],
      "metadata": {
        "id": "ytUku6thUz2G"
      }
    },
    {
      "cell_type": "code",
      "source": [
        "import os\n",
        "import pandas as pd\n",
        "import matplotlib.pyplot as plt\n",
        "import seaborn as sns\n",
        "from sklearn.model_selection import train_test_split\n",
        "from math import pow, sqrt"
      ],
      "metadata": {
        "id": "lClbl0CtEAyg"
      },
      "execution_count": null,
      "outputs": []
    },
    {
      "cell_type": "markdown",
      "source": [
        "Importing user data"
      ],
      "metadata": {
        "id": "xd3McmK4Uw3B"
      }
    },
    {
      "cell_type": "code",
      "execution_count": null,
      "metadata": {
        "id": "wO6xQ-wYD8if"
      },
      "outputs": [],
      "source": [
        "if os.path.isfile(\"/content/ratings.csv\") == True:\n",
        "  users = pd.read_csv('ratings.csv')\n",
        "  users.rename(columns = {'userId':'user_id', 'movieId':'item_id'}, inplace=True)\n",
        "else : \n",
        "  users = pd.read_csv('Dataset.csv')\n",
        "\n",
        "#print(\"Few initial observations in user data are : \\n \",users.head(),'\\n')\n",
        "#print(('There are few missing values in user data : '), users.isnull().values.any(),'\\n')"
      ]
    },
    {
      "cell_type": "markdown",
      "source": [
        "Importing movie data"
      ],
      "metadata": {
        "id": "AvwbKEJrUrjU"
      }
    },
    {
      "cell_type": "code",
      "source": [
        "if os.path.isfile(\"/content/movies.csv\") == True:\n",
        "  movies = pd.read_csv('movies.csv')\n",
        "  movies.rename(columns = {'movieId':'item_id'}, inplace=True)\n",
        "  movies.genre = movies.genres.str.split('|')\n",
        "  genreColumns = list(set([j for i in movies['genres'].tolist() for j in i]))\n",
        "  for j in genreColumns:\n",
        "    movies[j] = 0\n",
        "  for i in range(movies.shape[0]):\n",
        "    for j in genreColumns:\n",
        "      if(j in movies['genres'].iloc[i]):\n",
        "        movies.loc[i,j] = 1\n",
        "\n",
        "else :   \n",
        "  movies = pd.read_csv('Movie_Id_Titles.csv')\n",
        "#print(\"Few initial observations in movies data are : \\n \",movies.head(),'\\n')\n",
        "#print(('There are few missing values in movies data : '), movies.isnull().values.any(),'\\n')"
      ],
      "metadata": {
        "colab": {
          "base_uri": "https://localhost:8080/"
        },
        "id": "04swyjO7EokF",
        "outputId": "434b94b1-2eb6-482b-d928-511e2e55f3ef"
      },
      "execution_count": null,
      "outputs": [
        {
          "output_type": "stream",
          "name": "stderr",
          "text": [
            "/usr/local/lib/python3.7/dist-packages/ipykernel_launcher.py:4: UserWarning: Pandas doesn't allow columns to be created via a new attribute name - see https://pandas.pydata.org/pandas-docs/stable/indexing.html#attribute-access\n",
            "  after removing the cwd from sys.path.\n"
          ]
        }
      ]
    },
    {
      "cell_type": "markdown",
      "source": [
        "Creating rating data"
      ],
      "metadata": {
        "id": "Xy2AnqeUU4_g"
      }
    },
    {
      "cell_type": "code",
      "source": [
        "#This code cell will create one more dataframe named ratings \n",
        "ratings = pd.merge(users, movies, on='item_id')\n",
        "#ratings.head()"
      ],
      "metadata": {
        "id": "NTqVWg0aE-iA"
      },
      "execution_count": null,
      "outputs": []
    },
    {
      "cell_type": "code",
      "source": [
        "avgRating = ratings.groupby('title')['rating'].mean().sort_values(ascending=False)\n",
        "#print(\"Avg rating of each movie is : \\n\",avgRating.head())"
      ],
      "metadata": {
        "id": "yYDI3_IxowmH"
      },
      "execution_count": null,
      "outputs": []
    },
    {
      "cell_type": "code",
      "source": [
        "'''\n",
        "plt.rcParams[\"figure.figsize\"] = (100,100)\n",
        "sns.heatmap(movies.corr(), annot =True, linewidths=.5, cmap='YlGnBu')\n",
        "plt.title('Correlation Matrix')\n",
        "'''"
      ],
      "metadata": {
        "colab": {
          "base_uri": "https://localhost:8080/",
          "height": 53
        },
        "id": "cLkTq29rtc9S",
        "outputId": "4cee4bcc-1252-4712-e7f7-f9fa93d6a947"
      },
      "execution_count": null,
      "outputs": [
        {
          "output_type": "execute_result",
          "data": {
            "text/plain": [
              "'\\nplt.rcParams[\"figure.figsize\"] = (100,100)\\nsns.heatmap(movies.corr(), annot =True, linewidths=.5, cmap=\\'YlGnBu\\')\\nplt.title(\\'Correlation Matrix\\')\\n'"
            ],
            "application/vnd.google.colaboratory.intrinsic+json": {
              "type": "string"
            }
          },
          "metadata": {},
          "execution_count": 106
        }
      ]
    },
    {
      "cell_type": "markdown",
      "source": [
        "Function to get rating given by a user to a movie"
      ],
      "metadata": {
        "id": "lkDfkxldVMB8"
      }
    },
    {
      "cell_type": "code",
      "source": [
        "def getRating(userid,movieid):\n",
        "  return (ratings.loc[(ratings.user_id==userid) & (ratings.item_id == movieid),'rating'].iloc[0])"
      ],
      "metadata": {
        "id": "y6pGJCXMFWOR"
      },
      "execution_count": null,
      "outputs": []
    },
    {
      "cell_type": "markdown",
      "source": [
        "Function to get list of all movie vs user raing"
      ],
      "metadata": {
        "id": "-rTPefRiVw2G"
      }
    },
    {
      "cell_type": "code",
      "source": [
        "def getMovie(userid):\n",
        "  return (ratings.loc[(ratings.user_id==userid),'item_id'].tolist())"
      ],
      "metadata": {
        "id": "G5OmYg0xVu3o"
      },
      "execution_count": null,
      "outputs": []
    },
    {
      "cell_type": "markdown",
      "source": [
        "Function to get movie name vs the movie id."
      ],
      "metadata": {
        "id": "tm_dAijAWD7w"
      }
    },
    {
      "cell_type": "code",
      "source": [
        "def getMovieTitle(movieid):\n",
        "  return (movies.loc[(movies.item_id == movieid),'title'].iloc[0])"
      ],
      "metadata": {
        "id": "y_UG2fSoWMAV"
      },
      "execution_count": null,
      "outputs": []
    },
    {
      "cell_type": "code",
      "source": [
        "def distanceSimilarity(user1,user2):\n",
        "  watchCount = 0\n",
        "  for i in ratings.loc[ratings.user_id==user1,'item_id'].tolist():\n",
        "      if i in ratings.loc[ratings.user_id==user2,'item_id'].tolist():\n",
        "          watchCount += 1\n",
        "  if watchCount == 0 :\n",
        "      return 0\n",
        "  distance = []\n",
        "  for j in ratings.loc[ratings.user_id==user1,'item_id'].tolist():\n",
        "      if j in ratings.loc[ratings.user_id==user2,'item_id'].tolist():\n",
        "          rating1 = getRating(user1,j)\n",
        "          rating2 = getRating(user2,j)\n",
        "          distance.append(pow(rating1 - rating2, 2))\n",
        "  totalDistance = sum(distance)\n",
        "  return 1/(1+sqrt(totalDistance))"
      ],
      "metadata": {
        "id": "Q348aXWiFsHK"
      },
      "execution_count": null,
      "outputs": []
    },
    {
      "cell_type": "code",
      "source": [
        "#distanceSimilarity(11,111)"
      ],
      "metadata": {
        "id": "7KPzvuv3Fv6b"
      },
      "execution_count": null,
      "outputs": []
    },
    {
      "cell_type": "code",
      "source": [
        "def userCorrelation(user1,user2):\n",
        "  watchCount = []\n",
        "  for i in ratings.loc[ratings.user_id==user1,'item_id'].tolist():\n",
        "      if i in ratings.loc[ratings.user_id==user2,'item_id'].tolist():\n",
        "          watchCount.append(i)\n",
        "  if len(watchCount) == 0 :\n",
        "      return 0\n",
        "  sum1 = sum([getRating(user1,i) for i in watchCount])\n",
        "  sum2 = sum([getRating(user2,i) for i in watchCount])\n",
        "  squaredSum1 = sum([pow(getRating(user1,i),2) for i in watchCount])\n",
        "  squaredSum2 = sum([pow(getRating(user2,i),2) for i in watchCount])\n",
        "  totalMovieRating = sum([getRating(user1,i) * getRating(user2,i) for i in watchCount])\n",
        "  \n",
        "  numerator = totalMovieRating - ((sum1 * sum2) / len(watchCount))\n",
        "  denominator = sqrt((squaredSum1 - pow(sum1,2) / len(watchCount)) * (squaredSum2 - pow(sum2,2) / len(watchCount)))\n",
        "  if denominator == 0:\n",
        "      return 0\n",
        "  return numerator/denominator"
      ],
      "metadata": {
        "id": "aH_GuhqgF-K4"
      },
      "execution_count": null,
      "outputs": []
    },
    {
      "cell_type": "code",
      "source": [
        "#userCorrelation(11,111)"
      ],
      "metadata": {
        "id": "dLiVDFJHGIJJ"
      },
      "execution_count": null,
      "outputs": []
    },
    {
      "cell_type": "code",
      "source": [
        "def similarUsers(user1,userCount,metric='pearson'):\n",
        "  user_ids = ratings.user_id.unique().tolist()\n",
        "  if(metric == 'pearson'):\n",
        "      similarityScore = [(userCorrelation(user1,nthUser),nthUser) for nthUser in user_ids[:100] if nthUser != user1]\n",
        "  else:\n",
        "      similarityScore = [(distanceSimilarity(user1,nthUser),nthUser) for nthUser in user_ids[:100] if nthUser != user1]\n",
        "  \n",
        "  similarityScore.sort()\n",
        "  similarityScore.reverse()\n",
        "  return similarityScore[:userCount]"
      ],
      "metadata": {
        "id": "BAO4t2JeGPkK"
      },
      "execution_count": null,
      "outputs": []
    },
    {
      "cell_type": "code",
      "source": [
        "def Recommendation(userid):\n",
        "  user_ids = ratings.user_id.unique().tolist()\n",
        "  total = {}\n",
        "  similariySum = {}\n",
        "\n",
        "  for user in user_ids[:100]:\n",
        "    if user == userid:\n",
        "      continue\n",
        "    score = userCorrelation(userid,user)\n",
        "    if score <= 0:\n",
        "        continue \n",
        "    for movieid in getMovie(user):\n",
        "      if movieid not in getMovie(userid) or getRating(userid,movieid) == 0:\n",
        "        total[movieid] = 0\n",
        "        total[movieid] += getRating(user,movieid) * score\n",
        "        similariySum[movieid] = 0\n",
        "        similariySum[movieid] += score\n",
        "\n",
        "  ranking = [(tot/similariySum[movieid],movieid) for movieid,tot in total.items()]\n",
        "  ranking.sort()\n",
        "  ranking.reverse()\n",
        "  recommendations = [getMovieTitle(movieid) for score,movieid in ranking]\n",
        "  return recommendations[:10]"
      ],
      "metadata": {
        "id": "JnyN88Z5GW3F"
      },
      "execution_count": null,
      "outputs": []
    },
    {
      "cell_type": "code",
      "source": [
        "id = int(input(\"Enter user ID : \"))\n",
        "rec = Recommendation(id)\n",
        "print(f\"Top 10 movie recommendation for {id} are : \",*rec, sep = \"\\n\")"
      ],
      "metadata": {
        "colab": {
          "base_uri": "https://localhost:8080/"
        },
        "id": "Cf3-NK4VGnvV",
        "outputId": "28d78855-516a-492a-fa93-d7c493fc4ce9"
      },
      "execution_count": null,
      "outputs": [
        {
          "output_type": "stream",
          "name": "stdout",
          "text": [
            "Enter user ID : 3\n",
            "Top 10 movie recommendation for 3 are : \n",
            "Olive Kitteridge (2014)\n",
            "Cowboy Bebop (1998)\n",
            "American Hustle (2013)\n",
            "From One Second to the Next (2013)\n",
            "50 Children: The Rescue Mission of Mr. And Mrs. Kraus (2013)\n",
            "Before Midnight (2013)\n",
            "Lincoln (2012)\n",
            "Resident Evil: Retribution (2012)\n",
            "Samsara (2011)\n",
            "Superman/Batman: Public Enemies (2009)\n"
          ]
        }
      ]
    }
  ]
}